{
 "cells": [
  {
   "cell_type": "code",
   "execution_count": 22,
   "metadata": {},
   "outputs": [],
   "source": [
    "from fixerio import Fixerio # using the pre-release https://github.com/amatellanes/fixerio; that allows access key\n",
    "from datetime import date, timedelta\n",
    "import pandas as pd\n",
    "import numpy as np\n",
    "import sqlite3"
   ]
  },
  {
   "cell_type": "code",
   "execution_count": null,
   "metadata": {},
   "outputs": [],
   "source": [
    "# GETTING THE DATA\n",
    "# at fixerio; use free plan\n",
    "# we use the pre-release to be able to use access key\n",
    "# put into pandas dataframe\n",
    "# put into SQL database via sqlite3\n",
    "\n",
    "# CLEANING THE DATA\n",
    "# assumption not necessary, because highly \n",
    "# data comes from highly reputable source (ECB)\n",
    "# data source widely used\n",
    "\n",
    "# MAKE THE DATA USABLE\n",
    "# put into data base\n",
    "# write functions to query the database\n",
    "# show and explain the data model\n",
    "# show the conversion with the function"
   ]
  },
  {
   "cell_type": "code",
   "execution_count": 23,
   "metadata": {},
   "outputs": [],
   "source": [
    "fxrio = Fixerio(access_key = '9befb24d8c3e96f66b2e3229c817af99')"
   ]
  },
  {
   "cell_type": "code",
   "execution_count": 25,
   "metadata": {},
   "outputs": [
    {
     "name": "stdout",
     "output_type": "stream",
     "text": [
      "We need to make 501 queries\n"
     ]
    }
   ],
   "source": [
    "# the task is to: load all exchanges rates from 01.01.2018 \n",
    "# to now into a database\n",
    "# we will make multiple historical queries to the api\n",
    "# we have 1000 in the free plan and we need 501 queries\n",
    "# also we have only one base currency available (EUR)\n",
    "day1 = date(year=2018,month=1,day=1)\n",
    "day2 = date(year=2019,month=5,day=16)\n",
    "\n",
    "delta = day2 - day1 # timedelta\n",
    "\n",
    "dates = []\n",
    "for i in range(delta.days + 1):\n",
    "    dates.append(day1 + timedelta(i))\n",
    "    \n",
    "print('We need to make {:.0f} queries'.format(len(dates)))\n"
   ]
  },
  {
   "cell_type": "code",
   "execution_count": 26,
   "metadata": {},
   "outputs": [],
   "source": [
    "# let's query the API for every date once\n",
    "#rates = []\n",
    "\n",
    "#for d in dates:\n",
    "#    rates.append(fxrio.historical_rates(d))\n"
   ]
  },
  {
   "cell_type": "code",
   "execution_count": 41,
   "metadata": {},
   "outputs": [],
   "source": [
    "# put into dictionary\n",
    "rates_dict = {}\n",
    "for i,d in enumerate(dates):\n",
    "    rates_dict[str(d)] = rates[i]"
   ]
  },
  {
   "cell_type": "code",
   "execution_count": 59,
   "metadata": {},
   "outputs": [
    {
     "name": "stdout",
     "output_type": "stream",
     "text": [
      "['success', 'timestamp', 'historical', 'base', 'date', 'AED', 'AFN', 'ALL', 'AMD', 'ANG', 'AOA', 'ARS', 'AUD', 'AWG', 'AZN', 'BAM', 'BBD', 'BDT', 'BGN', 'BHD', 'BIF', 'BMD', 'BND', 'BOB', 'BRL', 'BSD', 'BTC', 'BTN', 'BWP', 'BYN', 'BYR', 'BZD', 'CAD', 'CDF', 'CHF', 'CLF', 'CLP', 'CNY', 'COP', 'CRC', 'CUC', 'CUP', 'CVE', 'CZK', 'DJF', 'DKK', 'DOP', 'DZD', 'EGP', 'ERN', 'ETB', 'EUR', 'FJD', 'FKP', 'GBP', 'GEL', 'GGP', 'GHS', 'GIP', 'GMD', 'GNF', 'GTQ', 'GYD', 'HKD', 'HNL', 'HRK', 'HTG', 'HUF', 'IDR', 'ILS', 'IMP', 'INR', 'IQD', 'IRR', 'ISK', 'JEP', 'JMD', 'JOD', 'JPY', 'KES', 'KGS', 'KHR', 'KMF', 'KPW', 'KRW', 'KWD', 'KYD', 'KZT', 'LAK', 'LBP', 'LKR', 'LRD', 'LSL', 'LTL', 'LVL', 'LYD', 'MAD', 'MDL', 'MGA', 'MKD', 'MMK', 'MNT', 'MOP', 'MRO', 'MUR', 'MVR', 'MWK', 'MXN', 'MYR', 'MZN', 'NAD', 'NGN', 'NIO', 'NOK', 'NPR', 'NZD', 'OMR', 'PAB', 'PEN', 'PGK', 'PHP', 'PKR', 'PLN', 'PYG', 'QAR', 'RON', 'RSD', 'RUB', 'RWF', 'SAR', 'SBD', 'SCR', 'SDG', 'SEK', 'SGD', 'SHP', 'SLL', 'SOS', 'SRD', 'STD', 'SVC', 'SYP', 'SZL', 'THB', 'TJS', 'TMT', 'TND', 'TOP', 'TRY', 'TTD', 'TWD', 'TZS', 'UAH', 'UGX', 'USD', 'UYU', 'UZS', 'VEF', 'VND', 'VUV', 'WST', 'XAF', 'XAG', 'XAU', 'XCD', 'XDR', 'XOF', 'XPF', 'YER', 'ZAR', 'ZMK', 'ZMW', 'ZWL']\n",
      "['AED', 'AFN', 'ALL', 'AMD', 'ANG', 'AOA', 'ARS', 'AUD', 'AWG', 'AZN', 'BAM', 'BBD', 'BDT', 'BGN', 'BHD', 'BIF', 'BMD', 'BND', 'BOB', 'BRL', 'BSD', 'BTC', 'BTN', 'BWP', 'BYN', 'BYR', 'BZD', 'CAD', 'CDF', 'CHF', 'CLF', 'CLP', 'CNY', 'COP', 'CRC', 'CUC', 'CUP', 'CVE', 'CZK', 'DJF', 'DKK', 'DOP', 'DZD', 'EGP', 'ERN', 'ETB', 'EUR', 'FJD', 'FKP', 'GBP', 'GEL', 'GGP', 'GHS', 'GIP', 'GMD', 'GNF', 'GTQ', 'GYD', 'HKD', 'HNL', 'HRK', 'HTG', 'HUF', 'IDR', 'ILS', 'IMP', 'INR', 'IQD', 'IRR', 'ISK', 'JEP', 'JMD', 'JOD', 'JPY', 'KES', 'KGS', 'KHR', 'KMF', 'KPW', 'KRW', 'KWD', 'KYD', 'KZT', 'LAK', 'LBP', 'LKR', 'LRD', 'LSL', 'LTL', 'LVL', 'LYD', 'MAD', 'MDL', 'MGA', 'MKD', 'MMK', 'MNT', 'MOP', 'MRO', 'MUR', 'MVR', 'MWK', 'MXN', 'MYR', 'MZN', 'NAD', 'NGN', 'NIO', 'NOK', 'NPR', 'NZD', 'OMR', 'PAB', 'PEN', 'PGK', 'PHP', 'PKR', 'PLN', 'PYG', 'QAR', 'RON', 'RSD', 'RUB', 'RWF', 'SAR', 'SBD', 'SCR', 'SDG', 'SEK', 'SGD', 'SHP', 'SLL', 'SOS', 'SRD', 'STD', 'SVC', 'SYP', 'SZL', 'THB', 'TJS', 'TMT', 'TND', 'TOP', 'TRY', 'TTD', 'TWD', 'TZS', 'UAH', 'UGX', 'USD', 'UYU', 'UZS', 'VEF', 'VND', 'VUV', 'WST', 'XAF', 'XAG', 'XAU', 'XCD', 'XDR', 'XOF', 'XPF', 'YER', 'ZAR', 'ZMK', 'ZMW', 'ZWL']\n",
      "168\n",
      "168\n"
     ]
    }
   ],
   "source": [
    "# now put in a data frame\n",
    "# I suggest a table (pandas data frame) \n",
    "# with rows being dates\n",
    "# variables are success, timestamp,\n",
    "# and each currency is one variable\n",
    "# let's get the names of the variables first\n",
    "variables_1 = list(rates_dict['2018-01-20'].keys())[:-1]\n",
    "variables_2 = list(rates_dict['2018-01-20']['rates'].keys())\n",
    "variables = variables_1 + variables_2\n",
    "print(variables)\n",
    "\n",
    "# however building the data frame we saw that not always all currencies are available\n",
    "# so we make sure we really query all possible currencies always, by forming the set\n",
    "currencies = []\n",
    "for d in dates:\n",
    "    currencies = currencies + list(rates_dict[str(d)]['rates'].keys())\n",
    "    \n",
    "currencies = list(set(currencies))\n",
    "currencies.sort()\n",
    "print(currencies)\n",
    "print(len(currencies))\n",
    "print(len(variables_2))\n",
    "\n",
    "# however: we have all possible currencies on Jan 20th"
   ]
  },
  {
   "cell_type": "code",
   "execution_count": 62,
   "metadata": {},
   "outputs": [
    {
     "name": "stdout",
     "output_type": "stream",
     "text": [
      "Missing currency\n",
      "Missing currency\n",
      "Missing currency\n"
     ]
    },
    {
     "data": {
      "text/html": [
       "<div>\n",
       "<style scoped>\n",
       "    .dataframe tbody tr th:only-of-type {\n",
       "        vertical-align: middle;\n",
       "    }\n",
       "\n",
       "    .dataframe tbody tr th {\n",
       "        vertical-align: top;\n",
       "    }\n",
       "\n",
       "    .dataframe thead th {\n",
       "        text-align: right;\n",
       "    }\n",
       "</style>\n",
       "<table border=\"1\" class=\"dataframe\">\n",
       "  <thead>\n",
       "    <tr style=\"text-align: right;\">\n",
       "      <th></th>\n",
       "      <th>success</th>\n",
       "      <th>timestamp</th>\n",
       "      <th>historical</th>\n",
       "      <th>base</th>\n",
       "      <th>date</th>\n",
       "      <th>AED</th>\n",
       "      <th>AFN</th>\n",
       "      <th>ALL</th>\n",
       "      <th>AMD</th>\n",
       "      <th>ANG</th>\n",
       "      <th>...</th>\n",
       "      <th>XAU</th>\n",
       "      <th>XCD</th>\n",
       "      <th>XDR</th>\n",
       "      <th>XOF</th>\n",
       "      <th>XPF</th>\n",
       "      <th>YER</th>\n",
       "      <th>ZAR</th>\n",
       "      <th>ZMK</th>\n",
       "      <th>ZMW</th>\n",
       "      <th>ZWL</th>\n",
       "    </tr>\n",
       "  </thead>\n",
       "  <tbody>\n",
       "    <tr>\n",
       "      <th>0</th>\n",
       "      <td>True</td>\n",
       "      <td>1514851199</td>\n",
       "      <td>True</td>\n",
       "      <td>EUR</td>\n",
       "      <td>2018-01-01</td>\n",
       "      <td>4.412975</td>\n",
       "      <td>83.395841</td>\n",
       "      <td>132.765995</td>\n",
       "      <td>581.043468</td>\n",
       "      <td>2.138499</td>\n",
       "      <td>...</td>\n",
       "      <td>0.000919</td>\n",
       "      <td>3.250891</td>\n",
       "      <td>0.843668</td>\n",
       "      <td>678.833208</td>\n",
       "      <td>119.261695</td>\n",
       "      <td>300.313919</td>\n",
       "      <td>14.886657</td>\n",
       "      <td>10814.903030</td>\n",
       "      <td>11.979648</td>\n",
       "      <td>387.308253</td>\n",
       "    </tr>\n",
       "    <tr>\n",
       "      <th>1</th>\n",
       "      <td>True</td>\n",
       "      <td>1514937599</td>\n",
       "      <td>True</td>\n",
       "      <td>EUR</td>\n",
       "      <td>2018-01-02</td>\n",
       "      <td>4.432021</td>\n",
       "      <td>83.854480</td>\n",
       "      <td>132.859093</td>\n",
       "      <td>583.566387</td>\n",
       "      <td>2.147927</td>\n",
       "      <td>...</td>\n",
       "      <td>0.000914</td>\n",
       "      <td>3.233631</td>\n",
       "      <td>0.844963</td>\n",
       "      <td>675.590291</td>\n",
       "      <td>119.366816</td>\n",
       "      <td>301.617897</td>\n",
       "      <td>15.003079</td>\n",
       "      <td>10861.858960</td>\n",
       "      <td>12.102800</td>\n",
       "      <td>388.989965</td>\n",
       "    </tr>\n",
       "    <tr>\n",
       "      <th>2</th>\n",
       "      <td>True</td>\n",
       "      <td>1515023999</td>\n",
       "      <td>True</td>\n",
       "      <td>EUR</td>\n",
       "      <td>2018-01-03</td>\n",
       "      <td>4.412236</td>\n",
       "      <td>83.501151</td>\n",
       "      <td>132.765008</td>\n",
       "      <td>581.041565</td>\n",
       "      <td>2.138437</td>\n",
       "      <td>...</td>\n",
       "      <td>0.000916</td>\n",
       "      <td>3.246223</td>\n",
       "      <td>0.842379</td>\n",
       "      <td>676.464081</td>\n",
       "      <td>119.263722</td>\n",
       "      <td>300.252857</td>\n",
       "      <td>14.846833</td>\n",
       "      <td>10814.902798</td>\n",
       "      <td>12.051223</td>\n",
       "      <td>387.306984</td>\n",
       "    </tr>\n",
       "    <tr>\n",
       "      <th>3</th>\n",
       "      <td>True</td>\n",
       "      <td>1515110399</td>\n",
       "      <td>True</td>\n",
       "      <td>EUR</td>\n",
       "      <td>2018-01-04</td>\n",
       "      <td>4.433811</td>\n",
       "      <td>84.028088</td>\n",
       "      <td>133.044473</td>\n",
       "      <td>583.850361</td>\n",
       "      <td>2.149437</td>\n",
       "      <td>...</td>\n",
       "      <td>0.000914</td>\n",
       "      <td>3.246777</td>\n",
       "      <td>0.845570</td>\n",
       "      <td>676.365741</td>\n",
       "      <td>119.294507</td>\n",
       "      <td>301.764670</td>\n",
       "      <td>14.838076</td>\n",
       "      <td>10867.144524</td>\n",
       "      <td>12.169518</td>\n",
       "      <td>389.179254</td>\n",
       "    </tr>\n",
       "    <tr>\n",
       "      <th>4</th>\n",
       "      <td>True</td>\n",
       "      <td>1515196799</td>\n",
       "      <td>True</td>\n",
       "      <td>EUR</td>\n",
       "      <td>2018-01-05</td>\n",
       "      <td>4.419187</td>\n",
       "      <td>83.731984</td>\n",
       "      <td>132.835347</td>\n",
       "      <td>581.876570</td>\n",
       "      <td>2.142214</td>\n",
       "      <td>...</td>\n",
       "      <td>0.000912</td>\n",
       "      <td>3.253030</td>\n",
       "      <td>0.843112</td>\n",
       "      <td>673.634003</td>\n",
       "      <td>119.660538</td>\n",
       "      <td>300.443705</td>\n",
       "      <td>14.784314</td>\n",
       "      <td>10830.416473</td>\n",
       "      <td>11.984495</td>\n",
       "      <td>387.863577</td>\n",
       "    </tr>\n",
       "  </tbody>\n",
       "</table>\n",
       "<p>5 rows × 173 columns</p>\n",
       "</div>"
      ],
      "text/plain": [
       "   success   timestamp  historical base        date       AED        AFN  \\\n",
       "0     True  1514851199        True  EUR  2018-01-01  4.412975  83.395841   \n",
       "1     True  1514937599        True  EUR  2018-01-02  4.432021  83.854480   \n",
       "2     True  1515023999        True  EUR  2018-01-03  4.412236  83.501151   \n",
       "3     True  1515110399        True  EUR  2018-01-04  4.433811  84.028088   \n",
       "4     True  1515196799        True  EUR  2018-01-05  4.419187  83.731984   \n",
       "\n",
       "          ALL         AMD       ANG  ...       XAU       XCD       XDR  \\\n",
       "0  132.765995  581.043468  2.138499  ...  0.000919  3.250891  0.843668   \n",
       "1  132.859093  583.566387  2.147927  ...  0.000914  3.233631  0.844963   \n",
       "2  132.765008  581.041565  2.138437  ...  0.000916  3.246223  0.842379   \n",
       "3  133.044473  583.850361  2.149437  ...  0.000914  3.246777  0.845570   \n",
       "4  132.835347  581.876570  2.142214  ...  0.000912  3.253030  0.843112   \n",
       "\n",
       "          XOF         XPF         YER        ZAR           ZMK        ZMW  \\\n",
       "0  678.833208  119.261695  300.313919  14.886657  10814.903030  11.979648   \n",
       "1  675.590291  119.366816  301.617897  15.003079  10861.858960  12.102800   \n",
       "2  676.464081  119.263722  300.252857  14.846833  10814.902798  12.051223   \n",
       "3  676.365741  119.294507  301.764670  14.838076  10867.144524  12.169518   \n",
       "4  673.634003  119.660538  300.443705  14.784314  10830.416473  11.984495   \n",
       "\n",
       "          ZWL  \n",
       "0  387.308253  \n",
       "1  388.989965  \n",
       "2  387.306984  \n",
       "3  389.179254  \n",
       "4  387.863577  \n",
       "\n",
       "[5 rows x 173 columns]"
      ]
     },
     "execution_count": 62,
     "metadata": {},
     "output_type": "execute_result"
    }
   ],
   "source": [
    "# make a data frame and if a currency info is missing we will put NAN\n",
    "rates_data = {}\n",
    "\n",
    "for v in variables_1:\n",
    "    x = []\n",
    "    for d in dates:\n",
    "        x.append(rates_dict[str(d)][v])\n",
    "    rates_data[v] = x\n",
    "    \n",
    "for v in variables_2:\n",
    "    x = []\n",
    "    for i,d in enumerate(dates):\n",
    "        try:\n",
    "            x.append(rates_dict[str(d)]['rates'][v])\n",
    "        except:\n",
    "            print('Missing currency')\n",
    "            x.append(np.nan)\n",
    "            \n",
    "    rates_data[v] = x\n",
    "    \n",
    "    \n",
    "rates_data = pd.DataFrame(rates_data)\n",
    "rates_data.to_csv('rates.csv')\n",
    "rates_data.head(5)"
   ]
  },
  {
   "cell_type": "code",
   "execution_count": 63,
   "metadata": {},
   "outputs": [
    {
     "data": {
      "text/plain": [
       "Index(['BHD', 'BIF', 'BMD', 'BND', 'BOB', 'BRL', 'BSD', 'BTC', 'BTN', 'BWP'], dtype='object')"
      ]
     },
     "execution_count": 63,
     "metadata": {},
     "output_type": "execute_result"
    }
   ],
   "source": [
    "# alternatively we read the data from\n",
    "# the csv if we have already queried the fixerio API and want to save our free API calls\n",
    "rates_data = pd.read_csv('rates.csv')"
   ]
  },
  {
   "cell_type": "code",
   "execution_count": 64,
   "metadata": {},
   "outputs": [
    {
     "data": {
      "text/plain": [
       "1.203219"
      ]
     },
     "execution_count": 64,
     "metadata": {},
     "output_type": "execute_result"
    }
   ],
   "source": [
    "# example query for a price of 1 and EUR to USD conversion\n",
    "rates_data['USD'][4]"
   ]
  },
  {
   "cell_type": "code",
   "execution_count": 65,
   "metadata": {},
   "outputs": [],
   "source": [
    "# now create database\n",
    "connection = sqlite3.connect(\"conversion_rates.db\")"
   ]
  },
  {
   "cell_type": "code",
   "execution_count": 66,
   "metadata": {},
   "outputs": [
    {
     "name": "stderr",
     "output_type": "stream",
     "text": [
      "/home/alexander/miniconda3/lib/python3.7/site-packages/pandas/core/generic.py:2531: UserWarning: The spaces in these column names will not be changed. In pandas versions < 0.14, spaces were converted to underscores.\n",
      "  dtype=dtype, method=method)\n"
     ]
    }
   ],
   "source": [
    "# put it into the database\n",
    "rates_data.to_sql(con=connection,name='conversion_rates',if_exists = 'replace')"
   ]
  },
  {
   "cell_type": "code",
   "execution_count": 67,
   "metadata": {},
   "outputs": [],
   "source": [
    "# query the database\n",
    "connection = sqlite3.connect(\"conversion_rates.db\")\n",
    " \n",
    "def print_line_after(func):\n",
    "    def wrapper(*args, **kwargs):\n",
    "        res =  func(*args, **kwargs)\n",
    "        print('Converted price is: {:.2f}'.format(res))\n",
    "        print('\\n')\n",
    "        return(res)\n",
    "    return wrapper\n",
    "\n",
    "@print_line_after\n",
    "def convert_price(from_currency,date_query,con,price=1,to_currency='USD'):\n",
    "    '''\n",
    "    INPUT:\n",
    "    con: database to query\n",
    "    date_query: string of date in format YYYY-MM-DD\n",
    "    from_currency: currency in which price is given\n",
    "    to_currency: currency to which price should be converted to\n",
    "    \n",
    "    VALUE:\n",
    "    Converted price as float.\n",
    "    It prints the SQL commands that were made.\n",
    "    '''\n",
    "    \n",
    "    # getting cursor object to query\n",
    "    cursor = connection.cursor()\n",
    "    \n",
    "    # check\n",
    "    if from_currency == to_currency:\n",
    "        raise ValueError('The from_currency and the to_currency cannot be the same.')\n",
    "    \n",
    "    # assign the query currencies\n",
    "    if from_currency is not 'EUR' and to_currency is 'EUR':\n",
    "        print('THIS CASE')\n",
    "        to_curr_q = from_currency\n",
    "        from_curr_q = to_currency\n",
    "    else:\n",
    "        to_curr_q = to_currency\n",
    "        from_curr_q = from_currency\n",
    "    \n",
    "    # get the data:\n",
    "    base_command = 'SELECT ' + to_curr_q + ' FROM conversion_rates '\n",
    "    get_date_command = base_command + 'WHERE date = \\'' + date_query + '\\''\n",
    "    print(get_date_command)\n",
    "    cursor.execute(get_date_command) \n",
    "    result = cursor.fetchall() \n",
    "    \n",
    "    # test that result is exactly of length 1\n",
    "    assert(len(result) == 1)\n",
    "    r = result[0]\n",
    "\n",
    "    if from_currency == 'EUR':\n",
    "        print\n",
    "        return(float(r[0])*price)\n",
    "    elif from_currency is not 'EUR' and to_currency is 'EUR':\n",
    "        return(1/float(r[0])*price)\n",
    "    elif from_currency is not 'EUR' and to_currency is not 'EUR':\n",
    "        # get the second conversion\n",
    "        base_command = 'SELECT ' + from_currency + ' FROM conversion_rates '\n",
    "        get_date_command = base_command + 'WHERE date = \\'' + date_query + '\\''\n",
    "        print(get_date_command)\n",
    "        cursor.execute(get_date_command) \n",
    "        result2 = cursor.fetchall()\n",
    "        assert(len(result2) == 1)\n",
    "        r2 = result2[0]\n",
    "        return((float(r[0])/float(r2[0])*price))\n",
    "        \n"
   ]
  },
  {
   "cell_type": "code",
   "execution_count": 69,
   "metadata": {},
   "outputs": [
    {
     "name": "stdout",
     "output_type": "stream",
     "text": [
      "SELECT GBP FROM conversion_rates WHERE date = '2019-01-01'\n",
      "SELECT USD FROM conversion_rates WHERE date = '2019-01-01'\n",
      "Converted price is: 0.78\n",
      "\n",
      "\n",
      "SELECT GBP FROM conversion_rates WHERE date = '2018-05-23'\n",
      "Converted price is: 0.88\n",
      "\n",
      "\n",
      "SELECT GBP FROM conversion_rates WHERE date = '2018-08-24'\n",
      "SELECT BTC FROM conversion_rates WHERE date = '2018-08-24'\n",
      "Converted price is: 5204.61\n",
      "\n",
      "\n"
     ]
    },
    {
     "data": {
      "text/plain": [
       "5204.609195402299"
      ]
     },
     "execution_count": 69,
     "metadata": {},
     "output_type": "execute_result"
    }
   ],
   "source": [
    "convert_price(from_currency='USD',date_query='2019-01-01',con=connection,price=1,to_currency='GBP')\n",
    "convert_price(from_currency='EUR',date_query='2018-05-23',con=connection,price=1,to_currency='GBP')\n",
    "convert_price(from_currency='BTC',date_query='2018-08-24',con=connection,price=1,to_currency='GBP')"
   ]
  },
  {
   "cell_type": "code",
   "execution_count": null,
   "metadata": {},
   "outputs": [],
   "source": []
  }
 ],
 "metadata": {
  "kernelspec": {
   "display_name": "Python 3",
   "language": "python",
   "name": "python3"
  },
  "language_info": {
   "codemirror_mode": {
    "name": "ipython",
    "version": 3
   },
   "file_extension": ".py",
   "mimetype": "text/x-python",
   "name": "python",
   "nbconvert_exporter": "python",
   "pygments_lexer": "ipython3",
   "version": "3.7.0"
  }
 },
 "nbformat": 4,
 "nbformat_minor": 2
}
