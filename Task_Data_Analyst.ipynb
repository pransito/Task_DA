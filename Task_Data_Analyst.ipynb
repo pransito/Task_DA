{
 "cells": [
  {
   "cell_type": "code",
   "execution_count": 1,
   "metadata": {},
   "outputs": [],
   "source": [
    "import numpy as np\n",
    "import pandas as pd\n",
    "import os\n",
    "import datetime\n",
    "import matplotlib.pyplot as plt\n",
    "import glob\n",
    "import re\n"
   ]
  },
  {
   "cell_type": "code",
   "execution_count": 2,
   "metadata": {},
   "outputs": [],
   "source": [
    "# from the description of the data set at\n",
    "# kaggle.com/beyjin/movies-1990-to-2017/home#Movie_Writer.csv\n",
    "# we know that we have multiple csv files with information on\n",
    "# roughly 200000 movies let's find out what information this is\n",
    "# and try to answer some questions with the data set "
   ]
  },
  {
   "cell_type": "code",
   "execution_count": 3,
   "metadata": {},
   "outputs": [
    {
     "data": {
      "text/plain": [
       "['Movie_Actors.csv',\n",
       " 'Movie_AdditionalRating.csv',\n",
       " 'Movie_Genres.csv',\n",
       " 'Movie_Movies.csv',\n",
       " 'Movie_Writer.csv']"
      ]
     },
     "execution_count": 3,
     "metadata": {},
     "output_type": "execute_result"
    }
   ],
   "source": [
    "# check what date we have\n",
    "os.listdir('data')"
   ]
  },
  {
   "cell_type": "code",
   "execution_count": 4,
   "metadata": {},
   "outputs": [
    {
     "name": "stderr",
     "output_type": "stream",
     "text": [
      "C:\\Users\\Alexander\\Miniconda3\\lib\\site-packages\\IPython\\core\\interactiveshell.py:3049: DtypeWarning: Columns (14) have mixed types. Specify dtype option on import or set low_memory=False.\n",
      "  interactivity=interactivity, compiler=compiler, result=result)\n"
     ]
    },
    {
     "data": {
      "text/html": [
       "<div>\n",
       "<style scoped>\n",
       "    .dataframe tbody tr th:only-of-type {\n",
       "        vertical-align: middle;\n",
       "    }\n",
       "\n",
       "    .dataframe tbody tr th {\n",
       "        vertical-align: top;\n",
       "    }\n",
       "\n",
       "    .dataframe thead th {\n",
       "        text-align: right;\n",
       "    }\n",
       "</style>\n",
       "<table border=\"1\" class=\"dataframe\">\n",
       "  <thead>\n",
       "    <tr style=\"text-align: right;\">\n",
       "      <th></th>\n",
       "      <th>Awards</th>\n",
       "      <th>Country</th>\n",
       "      <th>DVD</th>\n",
       "      <th>Director</th>\n",
       "      <th>Language</th>\n",
       "      <th>Plot</th>\n",
       "      <th>Poster</th>\n",
       "      <th>Production</th>\n",
       "      <th>Rated</th>\n",
       "      <th>Released</th>\n",
       "      <th>Runtime</th>\n",
       "      <th>Title</th>\n",
       "      <th>Type</th>\n",
       "      <th>Website</th>\n",
       "      <th>Year</th>\n",
       "      <th>imdbID</th>\n",
       "      <th>imdbRating</th>\n",
       "      <th>imdbVotes</th>\n",
       "    </tr>\n",
       "  </thead>\n",
       "  <tbody>\n",
       "    <tr>\n",
       "      <th>0</th>\n",
       "      <td>NaN</td>\n",
       "      <td>USA</td>\n",
       "      <td>NaN</td>\n",
       "      <td>Rose Cummings</td>\n",
       "      <td>English</td>\n",
       "      <td>Rachel constantly hears her baby cry from the ...</td>\n",
       "      <td>NaN</td>\n",
       "      <td>NaN</td>\n",
       "      <td>NaN</td>\n",
       "      <td>26 Apr 2012</td>\n",
       "      <td>20 min</td>\n",
       "      <td>Baby's Breath</td>\n",
       "      <td>movie</td>\n",
       "      <td>NaN</td>\n",
       "      <td>2012</td>\n",
       "      <td>tt2268369</td>\n",
       "      <td>NaN</td>\n",
       "      <td>NaN</td>\n",
       "    </tr>\n",
       "    <tr>\n",
       "      <th>1</th>\n",
       "      <td>NaN</td>\n",
       "      <td>USA</td>\n",
       "      <td>NaN</td>\n",
       "      <td>James Byrne</td>\n",
       "      <td>NaN</td>\n",
       "      <td>The struggle against unfortunate circumstances...</td>\n",
       "      <td>NaN</td>\n",
       "      <td>NaN</td>\n",
       "      <td>NaN</td>\n",
       "      <td>NaN</td>\n",
       "      <td>9 min</td>\n",
       "      <td>Winter Trees</td>\n",
       "      <td>movie</td>\n",
       "      <td>NaN</td>\n",
       "      <td>2008</td>\n",
       "      <td>tt1560760</td>\n",
       "      <td>NaN</td>\n",
       "      <td>NaN</td>\n",
       "    </tr>\n",
       "    <tr>\n",
       "      <th>2</th>\n",
       "      <td>NaN</td>\n",
       "      <td>USA</td>\n",
       "      <td>NaN</td>\n",
       "      <td>Dimitri Buchowetzki</td>\n",
       "      <td>NaN</td>\n",
       "      <td>NaN</td>\n",
       "      <td>NaN</td>\n",
       "      <td>NaN</td>\n",
       "      <td>NaN</td>\n",
       "      <td>27 Mar 1926</td>\n",
       "      <td>50 min</td>\n",
       "      <td>The Crown of Lies</td>\n",
       "      <td>movie</td>\n",
       "      <td>NaN</td>\n",
       "      <td>1926</td>\n",
       "      <td>tt0016750</td>\n",
       "      <td>NaN</td>\n",
       "      <td>NaN</td>\n",
       "    </tr>\n",
       "    <tr>\n",
       "      <th>3</th>\n",
       "      <td>NaN</td>\n",
       "      <td>USA</td>\n",
       "      <td>NaN</td>\n",
       "      <td>Julia Hechler</td>\n",
       "      <td>English</td>\n",
       "      <td>A Gift introduces Samuel Green, Washington Sta...</td>\n",
       "      <td>NaN</td>\n",
       "      <td>NaN</td>\n",
       "      <td>NaN</td>\n",
       "      <td>27 May 2013</td>\n",
       "      <td>2 min</td>\n",
       "      <td>A Gift</td>\n",
       "      <td>movie</td>\n",
       "      <td>NaN</td>\n",
       "      <td>2013</td>\n",
       "      <td>tt3405286</td>\n",
       "      <td>NaN</td>\n",
       "      <td>NaN</td>\n",
       "    </tr>\n",
       "    <tr>\n",
       "      <th>4</th>\n",
       "      <td>NaN</td>\n",
       "      <td>Sri Lanka</td>\n",
       "      <td>NaN</td>\n",
       "      <td>Udara Siriruwan</td>\n",
       "      <td>Sinhalese</td>\n",
       "      <td>NaN</td>\n",
       "      <td>NaN</td>\n",
       "      <td>NaN</td>\n",
       "      <td>NaN</td>\n",
       "      <td>20 Mar 2014</td>\n",
       "      <td>23 min</td>\n",
       "      <td>Journey</td>\n",
       "      <td>movie</td>\n",
       "      <td>NaN</td>\n",
       "      <td>2014</td>\n",
       "      <td>tt3816698</td>\n",
       "      <td>NaN</td>\n",
       "      <td>NaN</td>\n",
       "    </tr>\n",
       "  </tbody>\n",
       "</table>\n",
       "</div>"
      ],
      "text/plain": [
       "  Awards    Country  DVD             Director   Language  \\\n",
       "0    NaN        USA  NaN        Rose Cummings    English   \n",
       "1    NaN        USA  NaN          James Byrne        NaN   \n",
       "2    NaN        USA  NaN  Dimitri Buchowetzki        NaN   \n",
       "3    NaN        USA  NaN        Julia Hechler    English   \n",
       "4    NaN  Sri Lanka  NaN      Udara Siriruwan  Sinhalese   \n",
       "\n",
       "                                                Plot Poster Production Rated  \\\n",
       "0  Rachel constantly hears her baby cry from the ...    NaN        NaN   NaN   \n",
       "1  The struggle against unfortunate circumstances...    NaN        NaN   NaN   \n",
       "2                                                NaN    NaN        NaN   NaN   \n",
       "3  A Gift introduces Samuel Green, Washington Sta...    NaN        NaN   NaN   \n",
       "4                                                NaN    NaN        NaN   NaN   \n",
       "\n",
       "      Released Runtime              Title   Type Website  Year     imdbID  \\\n",
       "0  26 Apr 2012  20 min      Baby's Breath  movie     NaN  2012  tt2268369   \n",
       "1          NaN   9 min       Winter Trees  movie     NaN  2008  tt1560760   \n",
       "2  27 Mar 1926  50 min  The Crown of Lies  movie     NaN  1926  tt0016750   \n",
       "3  27 May 2013   2 min             A Gift  movie     NaN  2013  tt3405286   \n",
       "4  20 Mar 2014  23 min            Journey  movie     NaN  2014  tt3816698   \n",
       "\n",
       "   imdbRating imdbVotes  \n",
       "0         NaN       NaN  \n",
       "1         NaN       NaN  \n",
       "2         NaN       NaN  \n",
       "3         NaN       NaN  \n",
       "4         NaN       NaN  "
      ]
     },
     "execution_count": 4,
     "metadata": {},
     "output_type": "execute_result"
    }
   ],
   "source": [
    "# from the kaggle website we know that Movie_Movies.csv\n",
    "# is the most important file; let's read it into a data frame\n",
    "# using default values\n",
    "df = pd.read_csv('data\\Movie_Movies.csv')\n",
    "df.head(5)"
   ]
  },
  {
   "cell_type": "code",
   "execution_count": 5,
   "metadata": {},
   "outputs": [
    {
     "name": "stdout",
     "output_type": "stream",
     "text": [
      "The data has 178687 rows (i.e. movies) and 18 columns (i.e. infos on each movie) \n",
      "\n",
      "\n",
      "Per movie we have these infos:\n",
      "\n",
      "Awards\n",
      "Country\n",
      "DVD\n",
      "Director\n",
      "Language\n",
      "Plot\n",
      "Poster\n",
      "Production\n",
      "Rated\n",
      "Released\n",
      "Runtime\n",
      "Title\n",
      "Type\n",
      "Website\n",
      "Year\n",
      "imdbID\n",
      "imdbRating\n",
      "imdbVotes\n"
     ]
    }
   ],
   "source": [
    "# this has worked well; we come to the warning later\n",
    "# how big is that data set?\n",
    "# which variables do we have per movie?\n",
    "s = df.shape\n",
    "print ('The data has {:d} rows (i.e. movies) and {:d} columns (i.e. infos on each movie) \\n\\n'.format(s[0],s[1]))\n",
    "\n",
    "print ('Per movie we have these infos:\\n')\n",
    "for v in list(df.columns):\n",
    "    print(v)"
   ]
  },
  {
   "cell_type": "code",
   "execution_count": 6,
   "metadata": {},
   "outputs": [],
   "source": [
    "# from the kaggle data set info site we have learned that\n",
    "# 'NOT_GIVEN' is a missing; let's replace that and 'NaN'\n",
    "# with np.nan\n",
    "df.replace(['NOT_GIVEN','NaN'],[np.nan,np.nan],inplace=True)\n"
   ]
  },
  {
   "cell_type": "code",
   "execution_count": 7,
   "metadata": {},
   "outputs": [
    {
     "name": "stdout",
     "output_type": "stream",
     "text": [
      "         imdbRating\n",
      "count  62073.000000\n",
      "mean       6.416236\n",
      "std        1.360472\n",
      "min        1.000000\n",
      "25%        5.600000\n",
      "50%        6.500000\n",
      "75%        7.300000\n",
      "max       10.000000\n"
     ]
    }
   ],
   "source": [
    "# let's get a quick description of the data; as far as possible\n",
    "# having not done any thorough data cleaning yet\n",
    "# with NaN's removed\n",
    "print(df.describe())"
   ]
  },
  {
   "cell_type": "code",
   "execution_count": 8,
   "metadata": {},
   "outputs": [
    {
     "data": {
      "text/plain": [
       "Awards         object\n",
       "Country        object\n",
       "DVD            object\n",
       "Director       object\n",
       "Language       object\n",
       "Plot           object\n",
       "Poster         object\n",
       "Production     object\n",
       "Rated          object\n",
       "Released       object\n",
       "Runtime        object\n",
       "Title          object\n",
       "Type           object\n",
       "Website        object\n",
       "Year           object\n",
       "imdbID         object\n",
       "imdbRating    float64\n",
       "imdbVotes      object\n",
       "dtype: object"
      ]
     },
     "execution_count": 8,
     "metadata": {},
     "output_type": "execute_result"
    }
   ],
   "source": [
    "# there is only one numerical variable; the rest is probably string objects\n",
    "df.dtypes"
   ]
  },
  {
   "cell_type": "code",
   "execution_count": 9,
   "metadata": {},
   "outputs": [
    {
     "name": "stdout",
     "output_type": "stream",
     "text": [
      "0     2012\n",
      "1     2008\n",
      "2     1926\n",
      "3     2013\n",
      "4     2014\n",
      "5     2014\n",
      "6     2009\n",
      "7     1915\n",
      "8     1966\n",
      "9     2005\n",
      "10    2014\n",
      "11    2016\n",
      "12    2017\n",
      "13    2002\n",
      "14    2015\n",
      "15    2014\n",
      "16    2004\n",
      "17    2004\n",
      "18    2011\n",
      "19    2008\n",
      "Name: Year, dtype: object\n"
     ]
    }
   ],
   "source": [
    "# let's check the warning about column 14\n",
    "# pandas said the objects there are of mixed data type\n",
    "# which one is it?\n",
    "print(df[df.columns[14]].head(20))"
   ]
  },
  {
   "cell_type": "code",
   "execution_count": 10,
   "metadata": {},
   "outputs": [
    {
     "name": "stdout",
     "output_type": "stream",
     "text": [
      "0    2012-01-01\n",
      "1    2008-01-01\n",
      "2    1926-01-01\n",
      "3    2013-01-01\n",
      "4    2014-01-01\n",
      "5    2014-01-01\n",
      "6    2009-01-01\n",
      "7    1915-01-01\n",
      "8    1966-01-01\n",
      "9    2005-01-01\n",
      "10   2014-01-01\n",
      "11   2016-01-01\n",
      "12   2017-01-01\n",
      "13   2002-01-01\n",
      "14   2015-01-01\n",
      "15   2014-01-01\n",
      "16   2004-01-01\n",
      "17   2004-01-01\n",
      "18   2011-01-01\n",
      "19   2008-01-01\n",
      "Name: Year, dtype: datetime64[ns]\n"
     ]
    }
   ],
   "source": [
    "# Seems like integer-like.\n",
    "# Year should be an easy variable to simply\n",
    "# convert into a datetime object\n",
    "# it works for the first 20 but when we try it for all\n",
    "# then there is an error raised\n",
    "print(pd.to_datetime(df[df.columns[14]].head(20),format='%Y'))"
   ]
  },
  {
   "cell_type": "code",
   "execution_count": 11,
   "metadata": {},
   "outputs": [
    {
     "ename": "TypeError",
     "evalue": "'float' object is unsliceable",
     "output_type": "error",
     "traceback": [
      "\u001b[1;31m---------------------------------------------------------------------------\u001b[0m",
      "\u001b[1;31mTypeError\u001b[0m                                 Traceback (most recent call last)",
      "\u001b[1;32m<ipython-input-11-93b4429ba40a>\u001b[0m in \u001b[0;36m<module>\u001b[1;34m\u001b[0m\n\u001b[0;32m      1\u001b[0m \u001b[1;31m# let's look at the error\u001b[0m\u001b[1;33m\u001b[0m\u001b[1;33m\u001b[0m\u001b[1;33m\u001b[0m\u001b[0m\n\u001b[1;32m----> 2\u001b[1;33m \u001b[0mpd\u001b[0m\u001b[1;33m.\u001b[0m\u001b[0mto_datetime\u001b[0m\u001b[1;33m(\u001b[0m\u001b[0mdf\u001b[0m\u001b[1;33m[\u001b[0m\u001b[0mdf\u001b[0m\u001b[1;33m.\u001b[0m\u001b[0mcolumns\u001b[0m\u001b[1;33m[\u001b[0m\u001b[1;36m14\u001b[0m\u001b[1;33m]\u001b[0m\u001b[1;33m]\u001b[0m\u001b[1;33m,\u001b[0m\u001b[0mformat\u001b[0m\u001b[1;33m=\u001b[0m\u001b[1;34m'%Y'\u001b[0m\u001b[1;33m)\u001b[0m\u001b[1;33m\u001b[0m\u001b[1;33m\u001b[0m\u001b[0m\n\u001b[0m",
      "\u001b[1;32m~\\Miniconda3\\lib\\site-packages\\pandas\\core\\tools\\datetimes.py\u001b[0m in \u001b[0;36mto_datetime\u001b[1;34m(arg, errors, dayfirst, yearfirst, utc, box, format, exact, unit, infer_datetime_format, origin, cache)\u001b[0m\n\u001b[0;32m    590\u001b[0m         \u001b[1;32melse\u001b[0m\u001b[1;33m:\u001b[0m\u001b[1;33m\u001b[0m\u001b[1;33m\u001b[0m\u001b[0m\n\u001b[0;32m    591\u001b[0m             \u001b[1;32mfrom\u001b[0m \u001b[0mpandas\u001b[0m \u001b[1;32mimport\u001b[0m \u001b[0mSeries\u001b[0m\u001b[1;33m\u001b[0m\u001b[1;33m\u001b[0m\u001b[0m\n\u001b[1;32m--> 592\u001b[1;33m             \u001b[0mvalues\u001b[0m \u001b[1;33m=\u001b[0m \u001b[0mconvert_listlike\u001b[0m\u001b[1;33m(\u001b[0m\u001b[0marg\u001b[0m\u001b[1;33m.\u001b[0m\u001b[0m_values\u001b[0m\u001b[1;33m,\u001b[0m \u001b[1;32mTrue\u001b[0m\u001b[1;33m,\u001b[0m \u001b[0mformat\u001b[0m\u001b[1;33m)\u001b[0m\u001b[1;33m\u001b[0m\u001b[1;33m\u001b[0m\u001b[0m\n\u001b[0m\u001b[0;32m    593\u001b[0m             \u001b[0mresult\u001b[0m \u001b[1;33m=\u001b[0m \u001b[0mSeries\u001b[0m\u001b[1;33m(\u001b[0m\u001b[0mvalues\u001b[0m\u001b[1;33m,\u001b[0m \u001b[0mindex\u001b[0m\u001b[1;33m=\u001b[0m\u001b[0marg\u001b[0m\u001b[1;33m.\u001b[0m\u001b[0mindex\u001b[0m\u001b[1;33m,\u001b[0m \u001b[0mname\u001b[0m\u001b[1;33m=\u001b[0m\u001b[0marg\u001b[0m\u001b[1;33m.\u001b[0m\u001b[0mname\u001b[0m\u001b[1;33m)\u001b[0m\u001b[1;33m\u001b[0m\u001b[1;33m\u001b[0m\u001b[0m\n\u001b[0;32m    594\u001b[0m     \u001b[1;32melif\u001b[0m \u001b[0misinstance\u001b[0m\u001b[1;33m(\u001b[0m\u001b[0marg\u001b[0m\u001b[1;33m,\u001b[0m \u001b[1;33m(\u001b[0m\u001b[0mABCDataFrame\u001b[0m\u001b[1;33m,\u001b[0m \u001b[0mcompat\u001b[0m\u001b[1;33m.\u001b[0m\u001b[0mMutableMapping\u001b[0m\u001b[1;33m)\u001b[0m\u001b[1;33m)\u001b[0m\u001b[1;33m:\u001b[0m\u001b[1;33m\u001b[0m\u001b[1;33m\u001b[0m\u001b[0m\n",
      "\u001b[1;32m~\\Miniconda3\\lib\\site-packages\\pandas\\core\\tools\\datetimes.py\u001b[0m in \u001b[0;36m_convert_listlike_datetimes\u001b[1;34m(arg, box, format, name, tz, unit, errors, infer_datetime_format, dayfirst, yearfirst, exact)\u001b[0m\n\u001b[0;32m    259\u001b[0m                 \u001b[1;32mtry\u001b[0m\u001b[1;33m:\u001b[0m\u001b[1;33m\u001b[0m\u001b[1;33m\u001b[0m\u001b[0m\n\u001b[0;32m    260\u001b[0m                     result, timezones = array_strptime(\n\u001b[1;32m--> 261\u001b[1;33m                         arg, format, exact=exact, errors=errors)\n\u001b[0m\u001b[0;32m    262\u001b[0m                     \u001b[1;32mif\u001b[0m \u001b[1;34m'%Z'\u001b[0m \u001b[1;32min\u001b[0m \u001b[0mformat\u001b[0m \u001b[1;32mor\u001b[0m \u001b[1;34m'%z'\u001b[0m \u001b[1;32min\u001b[0m \u001b[0mformat\u001b[0m\u001b[1;33m:\u001b[0m\u001b[1;33m\u001b[0m\u001b[1;33m\u001b[0m\u001b[0m\n\u001b[0;32m    263\u001b[0m                         return _return_parsed_timezone_results(\n",
      "\u001b[1;32mpandas/_libs/tslibs/strptime.pyx\u001b[0m in \u001b[0;36mpandas._libs.tslibs.strptime.array_strptime\u001b[1;34m()\u001b[0m\n",
      "\u001b[1;31mTypeError\u001b[0m: 'float' object is unsliceable"
     ]
    }
   ],
   "source": [
    "# let's look at the error\n",
    "pd.to_datetime(df[df.columns[14]],format='%Y')"
   ]
  },
  {
   "cell_type": "code",
   "execution_count": 12,
   "metadata": {},
   "outputs": [],
   "source": [
    "# we get a TypeError; to_datetime expects strings\n",
    "# so pandas made some years into strings\n",
    "# some of them into float\n",
    "# let's make them all to integer and then to string\n",
    "# to get the format we need;\n",
    "# but check closely if it works\n",
    "def int_str(x):\n",
    "    return(str(int(x)))\n",
    "\n",
    "def cast_analysis(x,cast_func):\n",
    "    \"\"\"function that tries to cast via\n",
    "    cast_func all elements in x; collects\n",
    "    uncastables and returns those\n",
    "    and returns the vector x cast with np.nan\n",
    "    where not castable\"\"\"\n",
    "    problem_entries = []\n",
    "    x_cast = []\n",
    "    for v in enumerate(x):\n",
    "        try:\n",
    "            x_cast.append(cast_func(v[1]))\n",
    "        except:\n",
    "            x_cast.append(np.nan)\n",
    "            problem_entries.append(v)\n",
    "    \n",
    "    return((problem_entries,x_cast))\n",
    "\n",
    "# let's run the cast and check which ones do not work\n",
    "problem_entries, x_cast = cast_analysis(df[df.columns[14]],cast_func=int_str)\n"
   ]
  },
  {
   "cell_type": "code",
   "execution_count": 13,
   "metadata": {},
   "outputs": [
    {
     "name": "stdout",
     "output_type": "stream",
     "text": [
      "[(123293, nan), (174976, '2003–2005'), (175429, '2007–2011'), (176137, '2010–2013'), (176358, '2012–2016')]\n"
     ]
    }
   ],
   "source": [
    "# now let's check which ones we cannot cast\n",
    "print(problem_entries)"
   ]
  },
  {
   "cell_type": "code",
   "execution_count": 14,
   "metadata": {},
   "outputs": [
    {
     "name": "stdout",
     "output_type": "stream",
     "text": [
      "Awards        NaN\n",
      "Country       NaN\n",
      "DVD           NaN\n",
      "Director      NaN\n",
      "Language      NaN\n",
      "Plot          NaN\n",
      "Poster        NaN\n",
      "Production    NaN\n",
      "Rated         NaN\n",
      "Released      NaN\n",
      "Runtime       NaN\n",
      "Title         NaN\n",
      "Type          NaN\n",
      "Website       NaN\n",
      "Year          NaN\n",
      "imdbID        NaN\n",
      "imdbRating    NaN\n",
      "imdbVotes     NaN\n",
      "Name: 123293, dtype: object\n",
      "\n",
      "\n",
      "Awards                                                   1 win.\n",
      "Country                                                      UK\n",
      "DVD                                                         NaN\n",
      "Director                                                    NaN\n",
      "Language                                                English\n",
      "Plot          Animated sketches take a darkly satirical swip...\n",
      "Poster        https://images-na.ssl-images-amazon.com/images...\n",
      "Production                                                  NaN\n",
      "Rated                                                       NaN\n",
      "Released                                            09 Feb 2003\n",
      "Runtime                                                  29 min\n",
      "Title                                               Monkey Dust\n",
      "Type                                                     series\n",
      "Website                                                     NaN\n",
      "Year                                                  2003–2005\n",
      "imdbID                                                tt0386224\n",
      "imdbRating                                                  8.7\n",
      "imdbVotes                                                 1,597\n",
      "Name: 174976, dtype: object\n",
      "\n",
      "\n",
      "Awards                                           5 nominations.\n",
      "Country                            UK, France, Germany, Ireland\n",
      "DVD                                                         NaN\n",
      "Director                                                    NaN\n",
      "Language                                                English\n",
      "Plot          When strange anomalies start to appear all ove...\n",
      "Poster        https://images-na.ssl-images-amazon.com/images...\n",
      "Production                                                  NaN\n",
      "Rated                                                     TV-14\n",
      "Released                                            09 Aug 2008\n",
      "Runtime                                                  60 min\n",
      "Title                                                  Primeval\n",
      "Type                                                     series\n",
      "Website                                                     NaN\n",
      "Year                                                  2007–2011\n",
      "imdbID                                                tt0808096\n",
      "imdbRating                                                  7.3\n",
      "imdbVotes                                                11,783\n",
      "Name: 175429, dtype: object\n",
      "\n",
      "\n",
      "Awards                                14 wins & 26 nominations.\n",
      "Country                                                     USA\n",
      "DVD                                                         NaN\n",
      "Director                                                    NaN\n",
      "Language                                                English\n",
      "Plot          In this new set of adventures the Autobots liv...\n",
      "Poster        https://images-na.ssl-images-amazon.com/images...\n",
      "Production                                                  NaN\n",
      "Rated                                                     TV-Y7\n",
      "Released                                            26 Nov 2010\n",
      "Runtime                                                  30 min\n",
      "Title                                        Transformers Prime\n",
      "Type                                                     series\n",
      "Website                                                     NaN\n",
      "Year                                                  2010–2013\n",
      "imdbID                                                tt1659175\n",
      "imdbRating                                                  7.9\n",
      "imdbVotes                                                 4,180\n",
      "Name: 176137, dtype: object\n",
      "\n",
      "\n",
      "Awards                                 3 wins & 13 nominations.\n",
      "Country                                                  Canada\n",
      "DVD                                                         NaN\n",
      "Director                                                    NaN\n",
      "Language                                                English\n",
      "Plot          A beautiful detective falls in love with an ex...\n",
      "Poster        https://images-na.ssl-images-amazon.com/images...\n",
      "Production                                                  NaN\n",
      "Rated                                                     TV-14\n",
      "Released                                            11 Oct 2012\n",
      "Runtime                                                  60 min\n",
      "Title                                      Beauty and the Beast\n",
      "Type                                                     series\n",
      "Website                                                     NaN\n",
      "Year                                                  2012–2016\n",
      "imdbID                                                tt2193041\n",
      "imdbRating                                                  7.2\n",
      "imdbVotes                                                31,988\n",
      "Name: 176358, dtype: object\n",
      "\n",
      "\n"
     ]
    }
   ],
   "source": [
    "# we have year ranges given; maybe those are TV series\n",
    "for p in problem_entries:\n",
    "    print(df.iloc[p[0],:])\n",
    "    print('\\n')"
   ]
  },
  {
   "cell_type": "code",
   "execution_count": 15,
   "metadata": {},
   "outputs": [
    {
     "name": "stdout",
     "output_type": "stream",
     "text": [
      "[nan, '2003–2005', '2007–2011', '2010–2013', '2012–2016']\n"
     ]
    }
   ],
   "source": [
    "# indeed they are series\n",
    "# but we also see that we have a release date, so we will\n",
    "# have a variable \"year_final_release\" which is in the case\n",
    "# of a movie the release year and in case of the series\n",
    "# the year of the final season\n",
    "# but firstly this value array is handy for the next step\n",
    "problem_entries_v = [x[1] for x in problem_entries]\n",
    "print(problem_entries_v)"
   ]
  },
  {
   "cell_type": "code",
   "execution_count": 16,
   "metadata": {},
   "outputs": [],
   "source": [
    "\n",
    "df[df.columns[14]].replace(problem_entries_v,\n",
    "                          [np.nan, '2005', '2011', '2013', '2016'],\n",
    "                           inplace = True)"
   ]
  },
  {
   "cell_type": "code",
   "execution_count": 17,
   "metadata": {},
   "outputs": [
    {
     "name": "stdout",
     "output_type": "stream",
     "text": [
      "[(123293, nan)]\n"
     ]
    }
   ],
   "source": [
    "# now we run the cast analysis again and only nan is left\n",
    "problem_entries, x_cast = cast_analysis(df[df.columns[14]],cast_func=int_str)\n",
    "print(problem_entries)"
   ]
  },
  {
   "cell_type": "code",
   "execution_count": 18,
   "metadata": {},
   "outputs": [],
   "source": [
    "# we create the new variable, as announced\n",
    "df['year_final_release'] = x_cast"
   ]
  },
  {
   "cell_type": "code",
   "execution_count": 19,
   "metadata": {},
   "outputs": [
    {
     "name": "stdout",
     "output_type": "stream",
     "text": [
      "[]\n"
     ]
    }
   ],
   "source": [
    "# let's try if we can now cast all years to date_time objects\n",
    "problem_entries, x_cast = cast_analysis(df['year_final_release'],cast_func=pd.to_datetime)\n",
    "print(problem_entries)"
   ]
  },
  {
   "cell_type": "code",
   "execution_count": 20,
   "metadata": {},
   "outputs": [
    {
     "name": "stdout",
     "output_type": "stream",
     "text": [
      "0    2012-01-01\n",
      "1    2008-01-01\n",
      "2    1926-01-01\n",
      "3    2013-01-01\n",
      "4    2014-01-01\n",
      "5    2014-01-01\n",
      "6    2009-01-01\n",
      "7    1915-01-01\n",
      "8    1966-01-01\n",
      "9    2005-01-01\n",
      "10   2014-01-01\n",
      "11   2016-01-01\n",
      "12   2017-01-01\n",
      "13   2002-01-01\n",
      "14   2015-01-01\n",
      "15   2014-01-01\n",
      "16   2004-01-01\n",
      "17   2004-01-01\n",
      "18   2011-01-01\n",
      "19   2008-01-01\n",
      "20   1986-01-01\n",
      "21   2001-01-01\n",
      "22   2004-01-01\n",
      "23   2013-01-01\n",
      "24   1953-01-01\n",
      "25   2011-01-01\n",
      "26   1990-01-01\n",
      "27   2008-01-01\n",
      "28   1970-01-01\n",
      "29   1934-01-01\n",
      "Name: year_final_release, dtype: datetime64[ns]\n",
      "178657   1999-01-01\n",
      "178658   1999-01-01\n",
      "178659   1999-01-01\n",
      "178660   1999-01-01\n",
      "178661   1999-01-01\n",
      "178662   1999-01-01\n",
      "178663   1999-01-01\n",
      "178664   1999-01-01\n",
      "178665   1999-01-01\n",
      "178666   1999-01-01\n",
      "178667   1999-01-01\n",
      "178668   1999-01-01\n",
      "178669   1999-01-01\n",
      "178670   1999-01-01\n",
      "178671   1999-01-01\n",
      "178672   1999-01-01\n",
      "178673   1999-01-01\n",
      "178674   1999-01-01\n",
      "178675   1999-01-01\n",
      "178676   1999-01-01\n",
      "178677   1999-01-01\n",
      "178678   1999-01-01\n",
      "178679   1999-01-01\n",
      "178680   1999-01-01\n",
      "178681   1999-01-01\n",
      "178682   1999-01-01\n",
      "178683   1999-01-01\n",
      "178684   1999-01-01\n",
      "178685   1999-01-01\n",
      "178686   1999-01-01\n",
      "Name: year_final_release, dtype: datetime64[ns]\n"
     ]
    }
   ],
   "source": [
    "# yes, we have no more cast problems and we know what the variable means\n",
    "df['year_final_release'] = x_cast\n",
    "print(df['year_final_release'].head(30))\n",
    "print(df['year_final_release'].tail(30))"
   ]
  },
  {
   "cell_type": "code",
   "execution_count": 21,
   "metadata": {},
   "outputs": [
    {
     "name": "stdout",
     "output_type": "stream",
     "text": [
      "178587    1999\n",
      "178588    1999\n",
      "178589    1999\n",
      "178590    1999\n",
      "178591    1999\n",
      "178592    1999\n",
      "178593    1999\n",
      "178594    1999\n",
      "178595    1999\n",
      "178596    1999\n",
      "178597    1999\n",
      "178598    1999\n",
      "178599    1999\n",
      "178600    1999\n",
      "178601    1999\n",
      "178602    1999\n",
      "178603    1999\n",
      "178604    1999\n",
      "178605    1999\n",
      "178606    1999\n",
      "178607    1999\n",
      "178608    1999\n",
      "178609    1999\n",
      "178610    1999\n",
      "178611    1999\n",
      "178612    1999\n",
      "178613    1999\n",
      "178614    1999\n",
      "178615    1999\n",
      "178616    1999\n",
      "          ... \n",
      "178657    1999\n",
      "178658    1999\n",
      "178659    1999\n",
      "178660    1999\n",
      "178661    1999\n",
      "178662    1999\n",
      "178663    1999\n",
      "178664    1999\n",
      "178665    1999\n",
      "178666    1999\n",
      "178667    1999\n",
      "178668    1999\n",
      "178669    1999\n",
      "178670    1999\n",
      "178671    1999\n",
      "178672    1999\n",
      "178673    1999\n",
      "178674    1999\n",
      "178675    1999\n",
      "178676    1999\n",
      "178677    1999\n",
      "178678    1999\n",
      "178679    1999\n",
      "178680    1999\n",
      "178681    1999\n",
      "178682    1999\n",
      "178683    1999\n",
      "178684    1999\n",
      "178685    1999\n",
      "178686    1999\n",
      "Name: Year, Length: 100, dtype: object\n"
     ]
    }
   ],
   "source": [
    "# however, now we see in the tail a lot of \"1999\" dates\n",
    "# is it ordered, or have many years been cast wrongly?\n",
    "# let's check the original variable again\n",
    "print(df[df.columns[14]].tail(100))\n"
   ]
  },
  {
   "cell_type": "code",
   "execution_count": 22,
   "metadata": {},
   "outputs": [
    {
     "data": {
      "text/plain": [
       "<matplotlib.axes._subplots.AxesSubplot at 0xedc2b10>"
      ]
     },
     "execution_count": 22,
     "metadata": {},
     "output_type": "execute_result"
    },
    {
     "data": {
      "image/png": "[encoded data removed]",
      "text/plain": [
       "<Figure size 432x288 with 1 Axes>"
      ]
     },
     "metadata": {},
     "output_type": "display_data"
    }
   ],
   "source": [
    "# those are really \"1999\"\n",
    "# let's do another eyeballing check\n",
    "# is the '1999' an unduly large category?\n",
    "pd.Series([d.year for d in df['year_final_release']],dtype='str').value_counts().plot(kind='pie')\n"
   ]
  },
  {
   "cell_type": "code",
   "execution_count": 23,
   "metadata": {},
   "outputs": [
    {
     "data": {
      "image/png": "[encoded data removed]",
      "text/plain": [
       "<Figure size 432x288 with 1 Axes>"
      ]
     },
     "metadata": {
      "needs_background": "light"
     },
     "output_type": "display_data"
    },
    {
     "data": {
      "image/png": "[encoded data removed]",
      "text/plain": [
       "<Figure size 432x288 with 1 Axes>"
      ]
     },
     "metadata": {
      "needs_background": "light"
     },
     "output_type": "display_data"
    }
   ],
   "source": [
    "# It is not; how many movies were produced per year seems to be \n",
    "# quite randomly distributed\n",
    "# but there should be a trend: over the past 50 or so years\n",
    "# more and more movies should have been produced\n",
    "X = pd.Series([d.year for d in df['year_final_release']]).value_counts()\n",
    "x = np.array(X.keys())\n",
    "y = X[x]\n",
    "\n",
    "plt.scatter(x,y)\n",
    "plt.show()\n",
    "\n",
    "# it is an exponential increase as can be expected\n",
    "# the drop in the end may just be a problem of data collection\n",
    "# the fresh data is not complete yet; we also see movies\n",
    "# in the future (beyond 2019); maybe those are announcements of releases\n",
    "plt.scatter(x,y)\n",
    "plt.xlim(2000,2028)\n",
    "plt.show()"
   ]
  },
  {
   "cell_type": "code",
   "execution_count": 24,
   "metadata": {},
   "outputs": [],
   "source": [
    "# and so we will continue\n",
    "# usually we would have to check all variables and make sure they are in\n",
    "# a completely machine-readable format\n",
    "# here let's look firstly at two more variables\n",
    "#[.....................................Country]"
   ]
  },
  {
   "cell_type": "code",
   "execution_count": 25,
   "metadata": {},
   "outputs": [
    {
     "name": "stdout",
     "output_type": "stream",
     "text": [
      "0                       Rose Cummings\n",
      "1                         James Byrne\n",
      "2                 Dimitri Buchowetzki\n",
      "3                       Julia Hechler\n",
      "4                     Udara Siriruwan\n",
      "5                    Malini Schueller\n",
      "6                         Philip Shaw\n",
      "7                       Ben F. Wilson\n",
      "8                    Yeong-cheol Choi\n",
      "9                                 NaN\n",
      "10                       David Morris\n",
      "11                      Romeo Candido\n",
      "12                                NaN\n",
      "13                                NaN\n",
      "14                       David Gunson\n",
      "15                          Matt Hish\n",
      "16                        Meiert Avis\n",
      "17                       Paul Obazele\n",
      "18                         Fendou Liu\n",
      "19                    Patrick Devaney\n",
      "20                         Alan Bloom\n",
      "21        Terry L. Noss, Richard Rich\n",
      "22                   Emmanuel Oguguah\n",
      "23                       Peta Hoskins\n",
      "24                        Joseph Kane\n",
      "25                      Cooper Barnes\n",
      "26                                NaN\n",
      "27                       Zan Passante\n",
      "28                    Augusto Cabrita\n",
      "29                     Ernst L. Frank\n",
      "                     ...             \n",
      "178657                Bruce McCulloch\n",
      "178658              Robert Marcarelli\n",
      "178659                  David Fincher\n",
      "178660                  Louis Morneau\n",
      "178661                Martin Scorsese\n",
      "178662                 Malcolm D. Lee\n",
      "178663             Damon Santostefano\n",
      "178664                 William Malone\n",
      "178665                     Wes Craven\n",
      "178666                    Gary Sinyor\n",
      "178667                  Phillip Noyce\n",
      "178668                   Michael Mann\n",
      "178669                    Kevin Smith\n",
      "178670                     Luc Besson\n",
      "178671                 Barry Levinson\n",
      "178672                     Tim Burton\n",
      "178673                    Peter Hyams\n",
      "178674                Joel Schumacher\n",
      "178675                Patricia Rozema\n",
      "178676                    Neil Jordan\n",
      "178677                 Frank Darabont\n",
      "178678                Lasse Hallström\n",
      "178679                  Mike Mitchell\n",
      "178680                        Ang Lee\n",
      "178681                 Chris Columbus\n",
      "178682                    Rob Minkoff\n",
      "178683                   Oliver Stone\n",
      "178684                   Milos Forman\n",
      "178685                   Dean Parisot\n",
      "178686              Anthony Minghella\n",
      "Name: Director, Length: 178687, dtype: object\n"
     ]
    }
   ],
   "source": [
    "# Let's turn to the next task\n",
    "# \"As a user I´d like to know how many movies the Top10 directors in the data set produced. \n",
    "# Prepare a list of the top 10 Directors with the following information\"\n",
    "# Every line is one movie so we need to just look at the Director column\n",
    "print(df.Director)\n"
   ]
  },
  {
   "cell_type": "code",
   "execution_count": 26,
   "metadata": {},
   "outputs": [
    {
     "name": "stdout",
     "output_type": "stream",
     "text": [
      "21          Terry L. Noss, Richard Rich\n",
      "34      Nicholas Kohut, Lauren Mountain\n",
      "44          Darren Powell, Garret Smith\n",
      "58       Leslie Small, David E. Talbert\n",
      "69            Benjamin Kim, Jess Koster\n",
      "89               Ger Duffy, Daire Glynn\n",
      "95     Clara Kuperberg, Julia Kuperberg\n",
      "108           Jonathan Ramey, Jeff Ryan\n",
      "137              Yoni Brook, Musa Syeed\n",
      "149        Noel Buckner, Rob Whittlesey\n",
      "Name: Director, dtype: object\n",
      "47324    Heckle, Dewey &#39;Pigmeat&#39; Markham\n",
      "Name: Director, dtype: object\n"
     ]
    }
   ],
   "source": [
    "# The problem is that one movie may have multiple directors\n",
    "# split by a ',' or something else\n",
    "comma_directors = df.Director[[str(v).find(',') != -1 for v in df.Director]]\n",
    "print(comma_directors[0:10])\n",
    "\n",
    "semicolon_directors = df.Director[[str(v).find(';') != -1 for v in df.Director]]\n",
    "print(semicolon_directors[0:10])"
   ]
  },
  {
   "cell_type": "code",
   "execution_count": 29,
   "metadata": {},
   "outputs": [
    {
     "name": "stdout",
     "output_type": "stream",
     "text": [
      "Awards                                                    NaN\n",
      "Country                                                   USA\n",
      "DVD                                                       NaN\n",
      "Director              Heckle, Dewey &#39;Pigmeat&#39; Markham\n",
      "Language                                              English\n",
      "Plot                                                      NaN\n",
      "Poster                                                    NaN\n",
      "Production                                                NaN\n",
      "Rated                                                APPROVED\n",
      "Released                                          27 Aug 1940\n",
      "Runtime                                                25 min\n",
      "Title                                    Mr. Smith Goes Ghost\n",
      "Type                                                    movie\n",
      "Website                                                   NaN\n",
      "Year                                                     1940\n",
      "imdbID                                              tt0234276\n",
      "imdbRating                                                NaN\n",
      "imdbVotes                                                 NaN\n",
      "year_final_release                        1940-01-01 00:00:00\n",
      "Name: 47324, dtype: object\n"
     ]
    }
   ],
   "source": [
    "# so we have a couple \",\" cases and also one\n",
    "# \";\" case\n",
    "print(df.iloc[47324,])"
   ]
  },
  {
   "cell_type": "code",
   "execution_count": 34,
   "metadata": {},
   "outputs": [],
   "source": [
    "# check the directors online and this is a unicode error (????????????????????????!!!!!!!!!!!!!!!!!)\n",
    "df.Director.replace(\"Heckle, Dewey &#39;Pigmeat&#39; Markham\",\"Heckle, Dewey 'Pigmeat' Markham\",inplace=True)\n",
    "print(df.Director.iloc[47324])"
   ]
  },
  {
   "cell_type": "code",
   "execution_count": 48,
   "metadata": {},
   "outputs": [],
   "source": [
    "# now we have only \",\" cases left\n",
    "df['DirectorArray'] = df.Director.str.split(',')\n"
   ]
  },
  {
   "cell_type": "code",
   "execution_count": 55,
   "metadata": {},
   "outputs": [],
   "source": [
    "all_dirs = np.hstack(df['DirectorArray']).ravel()"
   ]
  },
  {
   "cell_type": "code",
   "execution_count": 63,
   "metadata": {},
   "outputs": [],
   "source": [
    "freq_dirs = pd.Series(all_dirs).value_counts()"
   ]
  },
  {
   "cell_type": "code",
   "execution_count": 64,
   "metadata": {},
   "outputs": [
    {
     "data": {
      "text/plain": [
       "nan                                    27334\n",
       "Jim Powers                               156\n",
       "Dave Fleischer                           109\n",
       "D.W. Griffith                            103\n",
       "Lewin Fitzhamon                           95\n",
       "Al Christie                               90\n",
       "Georges Méliès                            87\n",
       "Gilbert M. 'Broncho Billy' Anderson       85\n",
       "Kevin Dunn                                84\n",
       "Quasarman                                 84\n",
       "James H. White                            78\n",
       "Nica Noelle                               78\n",
       "Laurent Bouzereau                         77\n",
       "Allan Dwan                                76\n",
       "Stan Brakhage                             74\n",
       "Henri Pachard                             70\n",
       "Paul Thomas                               70\n",
       "Robby D.                                  69\n",
       "Craven Moorehead                          67\n",
       "Ralph Staub                               66\n",
       "Eddie Powell                              66\n",
       "William Beaudine                          66\n",
       "Ed Powers                                 64\n",
       "Phillips Smalley                          64\n",
       "Fred J. Lincoln                           63\n",
       "Jon Woods                                 63\n",
       "David Aylott                              62\n",
       "Joey Silvera                              62\n",
       "Percy Stow                                61\n",
       "Sam Newfield                              58\n",
       "                                       ...  \n",
       "J.P. McGowan                              39\n",
       "Maurice Elvey                             39\n",
       "George Albert Smith                       39\n",
       "Bud Lee                                   39\n",
       "Scotty Fox                                39\n",
       "Calum Waddell                             39\n",
       "Jerome Tanner                             38\n",
       "Godfrey Ho                                38\n",
       "Dana Vespoli                              38\n",
       "Josh Oreck                                37\n",
       "Axel Braun                                37\n",
       "Colin Campbell                            37\n",
       "J. Stuart Blackton                        37\n",
       "Edward F. Cline                           37\n",
       "Lawrence Jordan                           37\n",
       "Rocco Siffredi                            36\n",
       "Elijah Drenner                            36\n",
       "C.J. Williams                             36\n",
       "David Stern                               36\n",
       "Bobby Rinaldi                             36\n",
       "Dan O'Connell                             36\n",
       "Fred Evans                                36\n",
       "Rocky Schenck                             35\n",
       "Joe DeMaio                                35\n",
       "Eric Holman                               35\n",
       "James Avalon                              35\n",
       " Eliot Shear                              35\n",
       "Biff Malibu                               35\n",
       "Stuart Canterbury                         35\n",
       "Roy Alexandre                             35\n",
       "Length: 100, dtype: int64"
      ]
     },
     "execution_count": 64,
     "metadata": {},
     "output_type": "execute_result"
    }
   ],
   "source": [
    "freq_dirs[0:100]"
   ]
  }
 ],
 "metadata": {
  "kernelspec": {
   "display_name": "Python 3",
   "language": "python",
   "name": "python3"
  },
  "language_info": {
   "codemirror_mode": {
    "name": "ipython",
    "version": 3
   },
   "file_extension": ".py",
   "mimetype": "text/x-python",
   "name": "python",
   "nbconvert_exporter": "python",
   "pygments_lexer": "ipython3",
   "version": "3.7.1"
  }
 },
 "nbformat": 4,
 "nbformat_minor": 2
}
