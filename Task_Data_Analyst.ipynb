{
 "cells": [
  {
   "cell_type": "code",
   "execution_count": 1,
   "metadata": {},
   "outputs": [],
   "source": [
    "import numpy as np\n",
    "import pandas as pd\n",
    "import os\n",
    "import datetime\n",
    "import matplotlib.pyplot as plt\n",
    "import glob\n",
    "import re\n",
    "import math\n"
   ]
  },
  {
   "cell_type": "code",
   "execution_count": 2,
   "metadata": {},
   "outputs": [],
   "source": [
    "# from the description of the data set at\n",
    "# kaggle.com/beyjin/movies-1990-to-2017/home#Movie_Writer.csv\n",
    "# we know that we have multiple csv files with information on\n",
    "# roughly 200000 movies let's find out what information this is\n",
    "# and try to answer some questions with the data set "
   ]
  },
  {
   "cell_type": "code",
   "execution_count": 3,
   "metadata": {},
   "outputs": [
    {
     "data": {
      "text/plain": [
       "['Movie_Actors.csv',\n",
       " 'Movie_AdditionalRating.csv',\n",
       " 'Movie_Genres.csv',\n",
       " 'Movie_Movies.csv',\n",
       " 'Movie_Writer.csv']"
      ]
     },
     "execution_count": 3,
     "metadata": {},
     "output_type": "execute_result"
    }
   ],
   "source": [
    "# check what date we have\n",
    "os.listdir('data')"
   ]
  },
  {
   "cell_type": "code",
   "execution_count": 4,
   "metadata": {},
   "outputs": [
    {
     "name": "stderr",
     "output_type": "stream",
     "text": [
      "C:\\Users\\genaucka\\AppData\\Local\\Continuum\\miniconda3\\lib\\site-packages\\IPython\\core\\interactiveshell.py:2785: DtypeWarning: Columns (14) have mixed types. Specify dtype option on import or set low_memory=False.\n",
      "  interactivity=interactivity, compiler=compiler, result=result)\n"
     ]
    },
    {
     "data": {
      "text/html": [
       "<div>\n",
       "<style scoped>\n",
       "    .dataframe tbody tr th:only-of-type {\n",
       "        vertical-align: middle;\n",
       "    }\n",
       "\n",
       "    .dataframe tbody tr th {\n",
       "        vertical-align: top;\n",
       "    }\n",
       "\n",
       "    .dataframe thead th {\n",
       "        text-align: right;\n",
       "    }\n",
       "</style>\n",
       "<table border=\"1\" class=\"dataframe\">\n",
       "  <thead>\n",
       "    <tr style=\"text-align: right;\">\n",
       "      <th></th>\n",
       "      <th>Awards</th>\n",
       "      <th>Country</th>\n",
       "      <th>DVD</th>\n",
       "      <th>Director</th>\n",
       "      <th>Language</th>\n",
       "      <th>Plot</th>\n",
       "      <th>Poster</th>\n",
       "      <th>Production</th>\n",
       "      <th>Rated</th>\n",
       "      <th>Released</th>\n",
       "      <th>Runtime</th>\n",
       "      <th>Title</th>\n",
       "      <th>Type</th>\n",
       "      <th>Website</th>\n",
       "      <th>Year</th>\n",
       "      <th>imdbID</th>\n",
       "      <th>imdbRating</th>\n",
       "      <th>imdbVotes</th>\n",
       "    </tr>\n",
       "  </thead>\n",
       "  <tbody>\n",
       "    <tr>\n",
       "      <th>0</th>\n",
       "      <td>NaN</td>\n",
       "      <td>USA</td>\n",
       "      <td>NaN</td>\n",
       "      <td>Rose Cummings</td>\n",
       "      <td>English</td>\n",
       "      <td>Rachel constantly hears her baby cry from the ...</td>\n",
       "      <td>NaN</td>\n",
       "      <td>NaN</td>\n",
       "      <td>NaN</td>\n",
       "      <td>26 Apr 2012</td>\n",
       "      <td>20 min</td>\n",
       "      <td>Baby's Breath</td>\n",
       "      <td>movie</td>\n",
       "      <td>NaN</td>\n",
       "      <td>2012</td>\n",
       "      <td>tt2268369</td>\n",
       "      <td>NaN</td>\n",
       "      <td>NaN</td>\n",
       "    </tr>\n",
       "    <tr>\n",
       "      <th>1</th>\n",
       "      <td>NaN</td>\n",
       "      <td>USA</td>\n",
       "      <td>NaN</td>\n",
       "      <td>James Byrne</td>\n",
       "      <td>NaN</td>\n",
       "      <td>The struggle against unfortunate circumstances...</td>\n",
       "      <td>NaN</td>\n",
       "      <td>NaN</td>\n",
       "      <td>NaN</td>\n",
       "      <td>NaN</td>\n",
       "      <td>9 min</td>\n",
       "      <td>Winter Trees</td>\n",
       "      <td>movie</td>\n",
       "      <td>NaN</td>\n",
       "      <td>2008</td>\n",
       "      <td>tt1560760</td>\n",
       "      <td>NaN</td>\n",
       "      <td>NaN</td>\n",
       "    </tr>\n",
       "    <tr>\n",
       "      <th>2</th>\n",
       "      <td>NaN</td>\n",
       "      <td>USA</td>\n",
       "      <td>NaN</td>\n",
       "      <td>Dimitri Buchowetzki</td>\n",
       "      <td>NaN</td>\n",
       "      <td>NaN</td>\n",
       "      <td>NaN</td>\n",
       "      <td>NaN</td>\n",
       "      <td>NaN</td>\n",
       "      <td>27 Mar 1926</td>\n",
       "      <td>50 min</td>\n",
       "      <td>The Crown of Lies</td>\n",
       "      <td>movie</td>\n",
       "      <td>NaN</td>\n",
       "      <td>1926</td>\n",
       "      <td>tt0016750</td>\n",
       "      <td>NaN</td>\n",
       "      <td>NaN</td>\n",
       "    </tr>\n",
       "    <tr>\n",
       "      <th>3</th>\n",
       "      <td>NaN</td>\n",
       "      <td>USA</td>\n",
       "      <td>NaN</td>\n",
       "      <td>Julia Hechler</td>\n",
       "      <td>English</td>\n",
       "      <td>A Gift introduces Samuel Green, Washington Sta...</td>\n",
       "      <td>NaN</td>\n",
       "      <td>NaN</td>\n",
       "      <td>NaN</td>\n",
       "      <td>27 May 2013</td>\n",
       "      <td>2 min</td>\n",
       "      <td>A Gift</td>\n",
       "      <td>movie</td>\n",
       "      <td>NaN</td>\n",
       "      <td>2013</td>\n",
       "      <td>tt3405286</td>\n",
       "      <td>NaN</td>\n",
       "      <td>NaN</td>\n",
       "    </tr>\n",
       "    <tr>\n",
       "      <th>4</th>\n",
       "      <td>NaN</td>\n",
       "      <td>Sri Lanka</td>\n",
       "      <td>NaN</td>\n",
       "      <td>Udara Siriruwan</td>\n",
       "      <td>Sinhalese</td>\n",
       "      <td>NaN</td>\n",
       "      <td>NaN</td>\n",
       "      <td>NaN</td>\n",
       "      <td>NaN</td>\n",
       "      <td>20 Mar 2014</td>\n",
       "      <td>23 min</td>\n",
       "      <td>Journey</td>\n",
       "      <td>movie</td>\n",
       "      <td>NaN</td>\n",
       "      <td>2014</td>\n",
       "      <td>tt3816698</td>\n",
       "      <td>NaN</td>\n",
       "      <td>NaN</td>\n",
       "    </tr>\n",
       "  </tbody>\n",
       "</table>\n",
       "</div>"
      ],
      "text/plain": [
       "  Awards    Country  DVD             Director   Language  \\\n",
       "0    NaN        USA  NaN        Rose Cummings    English   \n",
       "1    NaN        USA  NaN          James Byrne        NaN   \n",
       "2    NaN        USA  NaN  Dimitri Buchowetzki        NaN   \n",
       "3    NaN        USA  NaN        Julia Hechler    English   \n",
       "4    NaN  Sri Lanka  NaN      Udara Siriruwan  Sinhalese   \n",
       "\n",
       "                                                Plot Poster Production Rated  \\\n",
       "0  Rachel constantly hears her baby cry from the ...    NaN        NaN   NaN   \n",
       "1  The struggle against unfortunate circumstances...    NaN        NaN   NaN   \n",
       "2                                                NaN    NaN        NaN   NaN   \n",
       "3  A Gift introduces Samuel Green, Washington Sta...    NaN        NaN   NaN   \n",
       "4                                                NaN    NaN        NaN   NaN   \n",
       "\n",
       "      Released Runtime              Title   Type Website  Year     imdbID  \\\n",
       "0  26 Apr 2012  20 min      Baby's Breath  movie     NaN  2012  tt2268369   \n",
       "1          NaN   9 min       Winter Trees  movie     NaN  2008  tt1560760   \n",
       "2  27 Mar 1926  50 min  The Crown of Lies  movie     NaN  1926  tt0016750   \n",
       "3  27 May 2013   2 min             A Gift  movie     NaN  2013  tt3405286   \n",
       "4  20 Mar 2014  23 min            Journey  movie     NaN  2014  tt3816698   \n",
       "\n",
       "   imdbRating imdbVotes  \n",
       "0         NaN       NaN  \n",
       "1         NaN       NaN  \n",
       "2         NaN       NaN  \n",
       "3         NaN       NaN  \n",
       "4         NaN       NaN  "
      ]
     },
     "execution_count": 4,
     "metadata": {},
     "output_type": "execute_result"
    }
   ],
   "source": [
    "# from the kaggle website we know that Movie_Movies.csv\n",
    "# is the most important file; let's read it into a data frame\n",
    "# using default values\n",
    "df = pd.read_csv('data/Movie_Movies.csv')\n",
    "df.head(5)"
   ]
  },
  {
   "cell_type": "code",
   "execution_count": 5,
   "metadata": {},
   "outputs": [
    {
     "name": "stdout",
     "output_type": "stream",
     "text": [
      "The data has 178687 rows (i.e. movies) and 18 columns (i.e. infos on each movie) \n",
      "\n",
      "\n",
      "Per movie we have these infos:\n",
      "\n",
      "Awards\n",
      "Country\n",
      "DVD\n",
      "Director\n",
      "Language\n",
      "Plot\n",
      "Poster\n",
      "Production\n",
      "Rated\n",
      "Released\n",
      "Runtime\n",
      "Title\n",
      "Type\n",
      "Website\n",
      "Year\n",
      "imdbID\n",
      "imdbRating\n",
      "imdbVotes\n"
     ]
    }
   ],
   "source": [
    "# this has worked well; we come to the warning later\n",
    "# how big is that data set?\n",
    "# which variables do we have per movie?\n",
    "s = df.shape\n",
    "print ('The data has {:d} rows (i.e. movies) and {:d} columns (i.e. infos on each movie) \\n\\n'.format(s[0],s[1]))\n",
    "\n",
    "print ('Per movie we have these infos:\\n')\n",
    "for v in list(df.columns):\n",
    "    print(v)"
   ]
  },
  {
   "cell_type": "code",
   "execution_count": 6,
   "metadata": {},
   "outputs": [],
   "source": [
    "# from the kaggle data set info site we have learned that\n",
    "# 'NOT_GIVEN' is a missing; let's replace that and 'NaN'\n",
    "# with np.nan\n",
    "df.replace(['NOT_GIVEN','NaN'],[np.nan,np.nan],inplace=True)\n"
   ]
  },
  {
   "cell_type": "code",
   "execution_count": 7,
   "metadata": {},
   "outputs": [
    {
     "name": "stdout",
     "output_type": "stream",
     "text": [
      "         imdbRating\n",
      "count  62073.000000\n",
      "mean       6.416236\n",
      "std        1.360472\n",
      "min        1.000000\n",
      "25%        5.600000\n",
      "50%        6.500000\n",
      "75%        7.300000\n",
      "max       10.000000\n"
     ]
    }
   ],
   "source": [
    "# let's get a quick description of the data; as far as possible\n",
    "# having not done any thorough data cleaning yet\n",
    "# with NaN's removed\n",
    "print(df.describe())"
   ]
  },
  {
   "cell_type": "code",
   "execution_count": 8,
   "metadata": {},
   "outputs": [
    {
     "data": {
      "text/plain": [
       "Awards         object\n",
       "Country        object\n",
       "DVD            object\n",
       "Director       object\n",
       "Language       object\n",
       "Plot           object\n",
       "Poster         object\n",
       "Production     object\n",
       "Rated          object\n",
       "Released       object\n",
       "Runtime        object\n",
       "Title          object\n",
       "Type           object\n",
       "Website        object\n",
       "Year           object\n",
       "imdbID         object\n",
       "imdbRating    float64\n",
       "imdbVotes      object\n",
       "dtype: object"
      ]
     },
     "execution_count": 8,
     "metadata": {},
     "output_type": "execute_result"
    }
   ],
   "source": [
    "# there is only one numerical variable; the rest is probably string objects\n",
    "df.dtypes"
   ]
  },
  {
   "cell_type": "code",
   "execution_count": 9,
   "metadata": {},
   "outputs": [
    {
     "name": "stdout",
     "output_type": "stream",
     "text": [
      "0     2012\n",
      "1     2008\n",
      "2     1926\n",
      "3     2013\n",
      "4     2014\n",
      "5     2014\n",
      "6     2009\n",
      "7     1915\n",
      "8     1966\n",
      "9     2005\n",
      "10    2014\n",
      "11    2016\n",
      "12    2017\n",
      "13    2002\n",
      "14    2015\n",
      "15    2014\n",
      "16    2004\n",
      "17    2004\n",
      "18    2011\n",
      "19    2008\n",
      "Name: Year, dtype: object\n"
     ]
    }
   ],
   "source": [
    "# let's check the warning about column 14\n",
    "# pandas said the objects there are of mixed data type\n",
    "# which one is it?\n",
    "print(df[df.columns[14]].head(20))"
   ]
  },
  {
   "cell_type": "code",
   "execution_count": 10,
   "metadata": {},
   "outputs": [
    {
     "name": "stdout",
     "output_type": "stream",
     "text": [
      "0    2012-01-01\n",
      "1    2008-01-01\n",
      "2    1926-01-01\n",
      "3    2013-01-01\n",
      "4    2014-01-01\n",
      "5    2014-01-01\n",
      "6    2009-01-01\n",
      "7    1915-01-01\n",
      "8    1966-01-01\n",
      "9    2005-01-01\n",
      "10   2014-01-01\n",
      "11   2016-01-01\n",
      "12   2017-01-01\n",
      "13   2002-01-01\n",
      "14   2015-01-01\n",
      "15   2014-01-01\n",
      "16   2004-01-01\n",
      "17   2004-01-01\n",
      "18   2011-01-01\n",
      "19   2008-01-01\n",
      "Name: Year, dtype: datetime64[ns]\n"
     ]
    }
   ],
   "source": [
    "# Seems like integer-like.\n",
    "# Year should be an easy variable to simply\n",
    "# convert into a datetime object\n",
    "# it works for the first 20 but when we try it for all\n",
    "# then there is an error raised\n",
    "print(pd.to_datetime(df[df.columns[14]].head(20),format='%Y'))"
   ]
  },
  {
   "cell_type": "code",
   "execution_count": 11,
   "metadata": {},
   "outputs": [
    {
     "ename": "TypeError",
     "evalue": "'float' object is unsliceable",
     "output_type": "error",
     "traceback": [
      "\u001b[1;31m---------------------------------------------------------------------------\u001b[0m",
      "\u001b[1;31mTypeError\u001b[0m                                 Traceback (most recent call last)",
      "\u001b[1;32m<ipython-input-11-93b4429ba40a>\u001b[0m in \u001b[0;36m<module>\u001b[1;34m()\u001b[0m\n\u001b[0;32m      1\u001b[0m \u001b[1;31m# let's look at the error\u001b[0m\u001b[1;33m\u001b[0m\u001b[1;33m\u001b[0m\u001b[0m\n\u001b[1;32m----> 2\u001b[1;33m \u001b[0mpd\u001b[0m\u001b[1;33m.\u001b[0m\u001b[0mto_datetime\u001b[0m\u001b[1;33m(\u001b[0m\u001b[0mdf\u001b[0m\u001b[1;33m[\u001b[0m\u001b[0mdf\u001b[0m\u001b[1;33m.\u001b[0m\u001b[0mcolumns\u001b[0m\u001b[1;33m[\u001b[0m\u001b[1;36m14\u001b[0m\u001b[1;33m]\u001b[0m\u001b[1;33m]\u001b[0m\u001b[1;33m,\u001b[0m\u001b[0mformat\u001b[0m\u001b[1;33m=\u001b[0m\u001b[1;34m'%Y'\u001b[0m\u001b[1;33m)\u001b[0m\u001b[1;33m\u001b[0m\u001b[0m\n\u001b[0m",
      "\u001b[1;32m~\\AppData\\Local\\Continuum\\miniconda3\\lib\\site-packages\\pandas\\core\\tools\\datetimes.py\u001b[0m in \u001b[0;36mto_datetime\u001b[1;34m(arg, errors, dayfirst, yearfirst, utc, box, format, exact, unit, infer_datetime_format, origin, cache)\u001b[0m\n\u001b[0;32m    449\u001b[0m         \u001b[1;32melse\u001b[0m\u001b[1;33m:\u001b[0m\u001b[1;33m\u001b[0m\u001b[0m\n\u001b[0;32m    450\u001b[0m             \u001b[1;32mfrom\u001b[0m \u001b[0mpandas\u001b[0m \u001b[1;32mimport\u001b[0m \u001b[0mSeries\u001b[0m\u001b[1;33m\u001b[0m\u001b[0m\n\u001b[1;32m--> 451\u001b[1;33m             \u001b[0mvalues\u001b[0m \u001b[1;33m=\u001b[0m \u001b[0m_convert_listlike\u001b[0m\u001b[1;33m(\u001b[0m\u001b[0marg\u001b[0m\u001b[1;33m.\u001b[0m\u001b[0m_values\u001b[0m\u001b[1;33m,\u001b[0m \u001b[1;32mTrue\u001b[0m\u001b[1;33m,\u001b[0m \u001b[0mformat\u001b[0m\u001b[1;33m)\u001b[0m\u001b[1;33m\u001b[0m\u001b[0m\n\u001b[0m\u001b[0;32m    452\u001b[0m             \u001b[0mresult\u001b[0m \u001b[1;33m=\u001b[0m \u001b[0mSeries\u001b[0m\u001b[1;33m(\u001b[0m\u001b[0mvalues\u001b[0m\u001b[1;33m,\u001b[0m \u001b[0mindex\u001b[0m\u001b[1;33m=\u001b[0m\u001b[0marg\u001b[0m\u001b[1;33m.\u001b[0m\u001b[0mindex\u001b[0m\u001b[1;33m,\u001b[0m \u001b[0mname\u001b[0m\u001b[1;33m=\u001b[0m\u001b[0marg\u001b[0m\u001b[1;33m.\u001b[0m\u001b[0mname\u001b[0m\u001b[1;33m)\u001b[0m\u001b[1;33m\u001b[0m\u001b[0m\n\u001b[0;32m    453\u001b[0m     \u001b[1;32melif\u001b[0m \u001b[0misinstance\u001b[0m\u001b[1;33m(\u001b[0m\u001b[0marg\u001b[0m\u001b[1;33m,\u001b[0m \u001b[1;33m(\u001b[0m\u001b[0mABCDataFrame\u001b[0m\u001b[1;33m,\u001b[0m \u001b[0mMutableMapping\u001b[0m\u001b[1;33m)\u001b[0m\u001b[1;33m)\u001b[0m\u001b[1;33m:\u001b[0m\u001b[1;33m\u001b[0m\u001b[0m\n",
      "\u001b[1;32m~\\AppData\\Local\\Continuum\\miniconda3\\lib\\site-packages\\pandas\\core\\tools\\datetimes.py\u001b[0m in \u001b[0;36m_convert_listlike\u001b[1;34m(arg, box, format, name, tz)\u001b[0m\n\u001b[0;32m    345\u001b[0m                     \u001b[1;32mtry\u001b[0m\u001b[1;33m:\u001b[0m\u001b[1;33m\u001b[0m\u001b[0m\n\u001b[0;32m    346\u001b[0m                         result = array_strptime(arg, format, exact=exact,\n\u001b[1;32m--> 347\u001b[1;33m                                                 errors=errors)\n\u001b[0m\u001b[0;32m    348\u001b[0m                     \u001b[1;32mexcept\u001b[0m \u001b[0mtslib\u001b[0m\u001b[1;33m.\u001b[0m\u001b[0mOutOfBoundsDatetime\u001b[0m\u001b[1;33m:\u001b[0m\u001b[1;33m\u001b[0m\u001b[0m\n\u001b[0;32m    349\u001b[0m                         \u001b[1;32mif\u001b[0m \u001b[0merrors\u001b[0m \u001b[1;33m==\u001b[0m \u001b[1;34m'raise'\u001b[0m\u001b[1;33m:\u001b[0m\u001b[1;33m\u001b[0m\u001b[0m\n",
      "\u001b[1;32mpandas\\_libs\\tslibs\\strptime.pyx\u001b[0m in \u001b[0;36mpandas._libs.tslibs.strptime.array_strptime\u001b[1;34m()\u001b[0m\n",
      "\u001b[1;31mTypeError\u001b[0m: 'float' object is unsliceable"
     ]
    }
   ],
   "source": [
    "# let's look at the error\n",
    "pd.to_datetime(df[df.columns[14]],format='%Y')"
   ]
  },
  {
   "cell_type": "code",
   "execution_count": 12,
   "metadata": {},
   "outputs": [],
   "source": [
    "# we get a TypeError; to_datetime expects strings\n",
    "# so pandas made some years into strings\n",
    "# some of them into float\n",
    "# let's make them all to integer and then to string\n",
    "# to get the format we need;\n",
    "# but check closely if it works\n",
    "def int_str(x):\n",
    "    return(str(int(x)))\n",
    "\n",
    "def cast_analysis(x,cast_func):\n",
    "    \"\"\"function that tries to cast via\n",
    "    cast_func all elements in x; collects\n",
    "    uncastables and returns those\n",
    "    and returns the vector x cast with np.nan\n",
    "    where not castable\"\"\"\n",
    "    problem_entries = []\n",
    "    x_cast = []\n",
    "    for v in enumerate(x):\n",
    "        try:\n",
    "            x_cast.append(cast_func(v[1]))\n",
    "        except:\n",
    "            x_cast.append(np.nan)\n",
    "            problem_entries.append(v)\n",
    "    \n",
    "    return((problem_entries,x_cast))\n",
    "\n",
    "# let's run the cast and check which ones do not work\n",
    "problem_entries, x_cast = cast_analysis(df[df.columns[14]],cast_func=int_str)\n"
   ]
  },
  {
   "cell_type": "code",
   "execution_count": 13,
   "metadata": {},
   "outputs": [
    {
     "name": "stdout",
     "output_type": "stream",
     "text": [
      "[(123293, nan), (174976, '2003–2005'), (175429, '2007–2011'), (176137, '2010–2013'), (176358, '2012–2016')]\n"
     ]
    }
   ],
   "source": [
    "# now let's check which ones we cannot cast\n",
    "print(problem_entries[0:10])"
   ]
  },
  {
   "cell_type": "code",
   "execution_count": 14,
   "metadata": {},
   "outputs": [
    {
     "name": "stdout",
     "output_type": "stream",
     "text": [
      "Awards        NaN\n",
      "Country       NaN\n",
      "DVD           NaN\n",
      "Director      NaN\n",
      "Language      NaN\n",
      "Plot          NaN\n",
      "Poster        NaN\n",
      "Production    NaN\n",
      "Rated         NaN\n",
      "Released      NaN\n",
      "Runtime       NaN\n",
      "Title         NaN\n",
      "Type          NaN\n",
      "Website       NaN\n",
      "Year          NaN\n",
      "imdbID        NaN\n",
      "imdbRating    NaN\n",
      "imdbVotes     NaN\n",
      "Name: 123293, dtype: object\n",
      "\n",
      "\n",
      "Awards                                                   1 win.\n",
      "Country                                                      UK\n",
      "DVD                                                         NaN\n",
      "Director                                                    NaN\n",
      "Language                                                English\n",
      "Plot          Animated sketches take a darkly satirical swip...\n",
      "Poster        https://images-na.ssl-images-amazon.com/images...\n",
      "Production                                                  NaN\n",
      "Rated                                                       NaN\n",
      "Released                                            09 Feb 2003\n",
      "Runtime                                                  29 min\n",
      "Title                                               Monkey Dust\n",
      "Type                                                     series\n",
      "Website                                                     NaN\n",
      "Year                                                  2003–2005\n",
      "imdbID                                                tt0386224\n",
      "imdbRating                                                  8.7\n",
      "imdbVotes                                                 1,597\n",
      "Name: 174976, dtype: object\n",
      "\n",
      "\n",
      "Awards                                           5 nominations.\n",
      "Country                            UK, France, Germany, Ireland\n",
      "DVD                                                         NaN\n",
      "Director                                                    NaN\n",
      "Language                                                English\n",
      "Plot          When strange anomalies start to appear all ove...\n",
      "Poster        https://images-na.ssl-images-amazon.com/images...\n",
      "Production                                                  NaN\n",
      "Rated                                                     TV-14\n",
      "Released                                            09 Aug 2008\n",
      "Runtime                                                  60 min\n",
      "Title                                                  Primeval\n",
      "Type                                                     series\n",
      "Website                                                     NaN\n",
      "Year                                                  2007–2011\n",
      "imdbID                                                tt0808096\n",
      "imdbRating                                                  7.3\n",
      "imdbVotes                                                11,783\n",
      "Name: 175429, dtype: object\n",
      "\n",
      "\n",
      "Awards                                14 wins & 26 nominations.\n",
      "Country                                                     USA\n",
      "DVD                                                         NaN\n",
      "Director                                                    NaN\n",
      "Language                                                English\n",
      "Plot          In this new set of adventures the Autobots liv...\n",
      "Poster        https://images-na.ssl-images-amazon.com/images...\n",
      "Production                                                  NaN\n",
      "Rated                                                     TV-Y7\n",
      "Released                                            26 Nov 2010\n",
      "Runtime                                                  30 min\n",
      "Title                                        Transformers Prime\n",
      "Type                                                     series\n",
      "Website                                                     NaN\n",
      "Year                                                  2010–2013\n",
      "imdbID                                                tt1659175\n",
      "imdbRating                                                  7.9\n",
      "imdbVotes                                                 4,180\n",
      "Name: 176137, dtype: object\n",
      "\n",
      "\n",
      "Awards                                 3 wins & 13 nominations.\n",
      "Country                                                  Canada\n",
      "DVD                                                         NaN\n",
      "Director                                                    NaN\n",
      "Language                                                English\n",
      "Plot          A beautiful detective falls in love with an ex...\n",
      "Poster        https://images-na.ssl-images-amazon.com/images...\n",
      "Production                                                  NaN\n",
      "Rated                                                     TV-14\n",
      "Released                                            11 Oct 2012\n",
      "Runtime                                                  60 min\n",
      "Title                                      Beauty and the Beast\n",
      "Type                                                     series\n",
      "Website                                                     NaN\n",
      "Year                                                  2012–2016\n",
      "imdbID                                                tt2193041\n",
      "imdbRating                                                  7.2\n",
      "imdbVotes                                                31,988\n",
      "Name: 176358, dtype: object\n",
      "\n",
      "\n"
     ]
    }
   ],
   "source": [
    "# we have year ranges given; maybe those are TV series\n",
    "for p in problem_entries:\n",
    "    print(df.iloc[p[0],:])\n",
    "    print('\\n')"
   ]
  },
  {
   "cell_type": "code",
   "execution_count": 15,
   "metadata": {},
   "outputs": [
    {
     "name": "stdout",
     "output_type": "stream",
     "text": [
      "[nan, '2003–2005', '2007–2011', '2010–2013', '2012–2016']\n"
     ]
    }
   ],
   "source": [
    "# indeed they are series\n",
    "# but we also see that we have a release date, so we will\n",
    "# have a variable \"year_final_release\" which is in the case\n",
    "# of a movie the release year and in case of the series\n",
    "# the year of the final season\n",
    "# but firstly this value array is handy for the next step\n",
    "problem_entries_v = [x[1] for x in problem_entries]\n",
    "print(problem_entries_v)"
   ]
  },
  {
   "cell_type": "code",
   "execution_count": 16,
   "metadata": {},
   "outputs": [],
   "source": [
    "df[df.columns[14]].replace(problem_entries_v,\n",
    "                          [np.nan, '2005', '2011', '2013', '2016'],\n",
    "                           inplace = True)"
   ]
  },
  {
   "cell_type": "code",
   "execution_count": 17,
   "metadata": {},
   "outputs": [
    {
     "name": "stdout",
     "output_type": "stream",
     "text": [
      "[(123293, nan)]\n"
     ]
    }
   ],
   "source": [
    "# now we run the cast analysis again and only nan is left\n",
    "problem_entries, x_cast = cast_analysis(df[df.columns[14]],cast_func=int_str)\n",
    "print(problem_entries)"
   ]
  },
  {
   "cell_type": "code",
   "execution_count": 18,
   "metadata": {},
   "outputs": [],
   "source": [
    "# we create the new variable, as announced\n",
    "df['year_final_release'] = x_cast"
   ]
  },
  {
   "cell_type": "code",
   "execution_count": 19,
   "metadata": {},
   "outputs": [
    {
     "name": "stdout",
     "output_type": "stream",
     "text": [
      "[]\n"
     ]
    }
   ],
   "source": [
    "# let's try if we can now cast all years to date_time objects\n",
    "problem_entries, x_cast = cast_analysis(df['year_final_release'],cast_func=pd.to_datetime)\n",
    "print(problem_entries)"
   ]
  },
  {
   "cell_type": "code",
   "execution_count": 20,
   "metadata": {},
   "outputs": [
    {
     "name": "stdout",
     "output_type": "stream",
     "text": [
      "0    2012-01-01\n",
      "1    2008-01-01\n",
      "2    1926-01-01\n",
      "3    2013-01-01\n",
      "4    2014-01-01\n",
      "5    2014-01-01\n",
      "6    2009-01-01\n",
      "7    1915-01-01\n",
      "8    1966-01-01\n",
      "9    2005-01-01\n",
      "10   2014-01-01\n",
      "11   2016-01-01\n",
      "12   2017-01-01\n",
      "13   2002-01-01\n",
      "14   2015-01-01\n",
      "15   2014-01-01\n",
      "16   2004-01-01\n",
      "17   2004-01-01\n",
      "18   2011-01-01\n",
      "19   2008-01-01\n",
      "Name: year_final_release, dtype: datetime64[ns]\n",
      "178667   1999-01-01\n",
      "178668   1999-01-01\n",
      "178669   1999-01-01\n",
      "178670   1999-01-01\n",
      "178671   1999-01-01\n",
      "178672   1999-01-01\n",
      "178673   1999-01-01\n",
      "178674   1999-01-01\n",
      "178675   1999-01-01\n",
      "178676   1999-01-01\n",
      "178677   1999-01-01\n",
      "178678   1999-01-01\n",
      "178679   1999-01-01\n",
      "178680   1999-01-01\n",
      "178681   1999-01-01\n",
      "178682   1999-01-01\n",
      "178683   1999-01-01\n",
      "178684   1999-01-01\n",
      "178685   1999-01-01\n",
      "178686   1999-01-01\n",
      "Name: year_final_release, dtype: datetime64[ns]\n"
     ]
    }
   ],
   "source": [
    "# yes, we have no more cast problems and we know what the variable means\n",
    "df['year_final_release'] = x_cast\n",
    "print(df['year_final_release'].head(20))\n",
    "print(df['year_final_release'].tail(20))"
   ]
  },
  {
   "cell_type": "code",
   "execution_count": 21,
   "metadata": {},
   "outputs": [
    {
     "name": "stdout",
     "output_type": "stream",
     "text": [
      "178647    1999\n",
      "178648    1999\n",
      "178649    1999\n",
      "178650    1999\n",
      "178651    1999\n",
      "178652    1999\n",
      "178653    1999\n",
      "178654    1999\n",
      "178655    1999\n",
      "178656    1999\n",
      "178657    1999\n",
      "178658    1999\n",
      "178659    1999\n",
      "178660    1999\n",
      "178661    1999\n",
      "178662    1999\n",
      "178663    1999\n",
      "178664    1999\n",
      "178665    1999\n",
      "178666    1999\n",
      "178667    1999\n",
      "178668    1999\n",
      "178669    1999\n",
      "178670    1999\n",
      "178671    1999\n",
      "178672    1999\n",
      "178673    1999\n",
      "178674    1999\n",
      "178675    1999\n",
      "178676    1999\n",
      "178677    1999\n",
      "178678    1999\n",
      "178679    1999\n",
      "178680    1999\n",
      "178681    1999\n",
      "178682    1999\n",
      "178683    1999\n",
      "178684    1999\n",
      "178685    1999\n",
      "178686    1999\n",
      "Name: Year, dtype: object\n"
     ]
    }
   ],
   "source": [
    "# however, now we see in the tail a lot of \"1999\" dates\n",
    "# is it ordered, or have many years been cast wrongly?\n",
    "# let's check the original variable again\n",
    "print(df[df.columns[14]].tail(40))\n"
   ]
  },
  {
   "cell_type": "code",
   "execution_count": 22,
   "metadata": {},
   "outputs": [
    {
     "data": {
      "text/plain": [
       "<matplotlib.axes._subplots.AxesSubplot at 0xd27a630>"
      ]
     },
     "execution_count": 22,
     "metadata": {},
     "output_type": "execute_result"
    },
    {
     "data": {
      "image/png": "[encoded data removed]",
      "text/plain": [
       "<Figure size 432x288 with 1 Axes>"
      ]
     },
     "metadata": {},
     "output_type": "display_data"
    }
   ],
   "source": [
    "# those are really \"1999\"\n",
    "# let's do another eyeballing check\n",
    "# is the '1999' an unduly large category?\n",
    "# We should see in pie chart 1999 as a unduly large category\n",
    "pd.Series([d.year for d in df['year_final_release']],dtype='str').value_counts().plot(kind='pie')\n"
   ]
  },
  {
   "cell_type": "code",
   "execution_count": 23,
   "metadata": {},
   "outputs": [
    {
     "data": {
      "image/png": "[encoded data removed]",
      "text/plain": [
       "<Figure size 432x288 with 1 Axes>"
      ]
     },
     "metadata": {},
     "output_type": "display_data"
    },
    {
     "data": {
      "image/png": "[encoded data removed]",
      "text/plain": [
       "<Figure size 432x288 with 1 Axes>"
      ]
     },
     "metadata": {},
     "output_type": "display_data"
    }
   ],
   "source": [
    "# It is not; how many movies were produced per year seems to be \n",
    "# quite randomly distributed\n",
    "# but there should be a trend: over the past 50 or so years\n",
    "# more and more movies should have been produced\n",
    "X = pd.Series([d.year for d in df['year_final_release']]).value_counts()\n",
    "x = np.array(X.keys())\n",
    "y = X[x]\n",
    "\n",
    "plt.scatter(x,y)\n",
    "plt.show()\n",
    "\n",
    "# it is an exponential increase as can be expected\n",
    "# the drop in the end may just be a problem of data collection\n",
    "# the fresh data is not complete yet; we also see movies\n",
    "# in the future (beyond 2019); maybe those are announcements of releases\n",
    "plt.scatter(x,y)\n",
    "plt.xlim(2000,2028)\n",
    "plt.show()"
   ]
  },
  {
   "cell_type": "code",
   "execution_count": 24,
   "metadata": {},
   "outputs": [
    {
     "name": "stdout",
     "output_type": "stream",
     "text": [
      "[(0, nan), (1, nan), (2, nan), (3, nan), (4, nan), (5, nan), (6, nan), (7, nan), (8, nan), (10, nan)]\n"
     ]
    }
   ],
   "source": [
    "# let's already fix imdbVotes too, because we need it later:\n",
    "problem_entries, x_cast = cast_analysis(df.imdbVotes,cast_func=int)\n",
    "print(problem_entries[0:10])"
   ]
  },
  {
   "cell_type": "code",
   "execution_count": 25,
   "metadata": {},
   "outputs": [
    {
     "name": "stdout",
     "output_type": "stream",
     "text": [
      "[]\n"
     ]
    }
   ],
   "source": [
    "# looking at the problems: we have comma-separated\n",
    "# numbers e.g. 100,000\n",
    "df.imdbVotes = df.imdbVotes.str.replace(',','')\n",
    "def get_int(x):\n",
    "    if pd.isna(x):\n",
    "        return(np.nan)\n",
    "    else:\n",
    "        return(int(x))\n",
    "    \n",
    "problem_entries, x_cast = cast_analysis(df.imdbVotes,cast_func=get_int)\n",
    "print(problem_entries)"
   ]
  },
  {
   "cell_type": "code",
   "execution_count": 26,
   "metadata": {},
   "outputs": [],
   "source": [
    "# we have successfully cast the imdbVotes variable\n",
    "df.imdbVotes = x_cast"
   ]
  },
  {
   "cell_type": "code",
   "execution_count": 27,
   "metadata": {},
   "outputs": [],
   "source": [
    "# and so we will continue\n",
    "# usually we would have to check all variables and make sure they are in\n",
    "# a completely machine-readable format\n",
    "# here let's look firstly at two more variables\n",
    "#[.....................................Country]"
   ]
  },
  {
   "cell_type": "code",
   "execution_count": 28,
   "metadata": {},
   "outputs": [
    {
     "name": "stdout",
     "output_type": "stream",
     "text": [
      "0           Rose Cummings\n",
      "1             James Byrne\n",
      "2     Dimitri Buchowetzki\n",
      "3           Julia Hechler\n",
      "4         Udara Siriruwan\n",
      "5        Malini Schueller\n",
      "6             Philip Shaw\n",
      "7           Ben F. Wilson\n",
      "8        Yeong-cheol Choi\n",
      "9                     NaN\n",
      "10           David Morris\n",
      "11          Romeo Candido\n",
      "12                    NaN\n",
      "13                    NaN\n",
      "14           David Gunson\n",
      "15              Matt Hish\n",
      "16            Meiert Avis\n",
      "17           Paul Obazele\n",
      "18             Fendou Liu\n",
      "19        Patrick Devaney\n",
      "Name: Director, dtype: object\n"
     ]
    }
   ],
   "source": [
    "# Let's turn to the next task\n",
    "# \"As a user I´d like to know how many movies the Top10 directors in the data set produced. \n",
    "# Prepare a list of the top 10 Directors with the following information\"\n",
    "# Every line is one movie so we need to just look at the Director column\n",
    "print(df.Director[0:20])\n"
   ]
  },
  {
   "cell_type": "code",
   "execution_count": 29,
   "metadata": {},
   "outputs": [
    {
     "name": "stdout",
     "output_type": "stream",
     "text": [
      "21          Terry L. Noss, Richard Rich\n",
      "34      Nicholas Kohut, Lauren Mountain\n",
      "44          Darren Powell, Garret Smith\n",
      "58       Leslie Small, David E. Talbert\n",
      "69            Benjamin Kim, Jess Koster\n",
      "89               Ger Duffy, Daire Glynn\n",
      "95     Clara Kuperberg, Julia Kuperberg\n",
      "108           Jonathan Ramey, Jeff Ryan\n",
      "137              Yoni Brook, Musa Syeed\n",
      "149        Noel Buckner, Rob Whittlesey\n",
      "Name: Director, dtype: object\n",
      "\n",
      "\n",
      "47324    Heckle, Dewey &#39;Pigmeat&#39; Markham\n",
      "Name: Director, dtype: object\n"
     ]
    }
   ],
   "source": [
    "# The problem is that one movie may have multiple directors\n",
    "# split by a ',' or something else\n",
    "comma_directors = df.Director[[str(v).find(',') != -1 for v in df.Director]]\n",
    "print(comma_directors[0:10])\n",
    "print('\\n')\n",
    "\n",
    "semicolon_directors = df.Director[[str(v).find(';') != -1 for v in df.Director]]\n",
    "print(semicolon_directors[0:10])"
   ]
  },
  {
   "cell_type": "code",
   "execution_count": 33,
   "metadata": {},
   "outputs": [
    {
     "name": "stdout",
     "output_type": "stream",
     "text": [
      "Awards                                                    NaN\n",
      "Country                                                   USA\n",
      "DVD                                                       NaN\n",
      "Director              Heckle, Dewey &#39;Pigmeat&#39; Markham\n",
      "Language                                              English\n",
      "Plot                                                      NaN\n",
      "Poster                                                    NaN\n",
      "Production                                                NaN\n",
      "Rated                                                APPROVED\n",
      "Released                                          27 Aug 1940\n",
      "Runtime                                                25 min\n",
      "Title                                    Mr. Smith Goes Ghost\n",
      "Type                                                    movie\n",
      "Website                                                   NaN\n",
      "Year                                                     1940\n",
      "imdbID                                              tt0234276\n",
      "imdbRating                                                NaN\n",
      "imdbVotes                                                 NaN\n",
      "year_final_release                        1940-01-01 00:00:00\n",
      "Name: 47324, dtype: object\n"
     ]
    }
   ],
   "source": [
    "# so we have a couple \",\" cases and also one\n",
    "# \";\" case\n",
    "print(df.iloc[47324,])"
   ]
  },
  {
   "cell_type": "code",
   "execution_count": 30,
   "metadata": {},
   "outputs": [
    {
     "name": "stdout",
     "output_type": "stream",
     "text": [
      "Heckle, Dewey 'Pigmeat' Markham\n"
     ]
    }
   ],
   "source": [
    "# check the directors online and this is a unicode error (?!)\n",
    "df.Director.replace(\"Heckle, Dewey &#39;Pigmeat&#39; Markham\",\"Heckle, Dewey 'Pigmeat' Markham\",inplace=True)\n",
    "print(df.Director.iloc[47324])"
   ]
  },
  {
   "cell_type": "code",
   "execution_count": 31,
   "metadata": {},
   "outputs": [],
   "source": [
    "# now we have only \",\" cases left\n",
    "df['DirectorArray'] = df.Director.str.split(',')\n"
   ]
  },
  {
   "cell_type": "code",
   "execution_count": 32,
   "metadata": {},
   "outputs": [],
   "source": [
    "all_dirs = pd.Series(np.hstack(df['DirectorArray']).ravel())\n",
    "\n",
    "def nan_from_string(x):\n",
    "    if x == 'nan':\n",
    "        return (np.nan)\n",
    "    else:\n",
    "        return(x)\n",
    "\n",
    "all_dirs = all_dirs.apply(nan_from_string)"
   ]
  },
  {
   "cell_type": "code",
   "execution_count": 33,
   "metadata": {},
   "outputs": [],
   "source": [
    "freq_dirs = pd.Series(all_dirs).value_counts()"
   ]
  },
  {
   "cell_type": "code",
   "execution_count": 34,
   "metadata": {},
   "outputs": [
    {
     "data": {
      "text/html": [
       "<div>\n",
       "<style scoped>\n",
       "    .dataframe tbody tr th:only-of-type {\n",
       "        vertical-align: middle;\n",
       "    }\n",
       "\n",
       "    .dataframe tbody tr th {\n",
       "        vertical-align: top;\n",
       "    }\n",
       "\n",
       "    .dataframe thead th {\n",
       "        text-align: right;\n",
       "    }\n",
       "</style>\n",
       "<table border=\"1\" class=\"dataframe\">\n",
       "  <thead>\n",
       "    <tr style=\"text-align: right;\">\n",
       "      <th></th>\n",
       "      <th>Director</th>\n",
       "      <th>NumberOfMovies</th>\n",
       "    </tr>\n",
       "  </thead>\n",
       "  <tbody>\n",
       "    <tr>\n",
       "      <th>0</th>\n",
       "      <td>Jim Powers</td>\n",
       "      <td>156</td>\n",
       "    </tr>\n",
       "    <tr>\n",
       "      <th>1</th>\n",
       "      <td>Dave Fleischer</td>\n",
       "      <td>109</td>\n",
       "    </tr>\n",
       "    <tr>\n",
       "      <th>2</th>\n",
       "      <td>D.W. Griffith</td>\n",
       "      <td>103</td>\n",
       "    </tr>\n",
       "    <tr>\n",
       "      <th>3</th>\n",
       "      <td>Lewin Fitzhamon</td>\n",
       "      <td>95</td>\n",
       "    </tr>\n",
       "    <tr>\n",
       "      <th>4</th>\n",
       "      <td>Al Christie</td>\n",
       "      <td>90</td>\n",
       "    </tr>\n",
       "    <tr>\n",
       "      <th>5</th>\n",
       "      <td>Georges Méliès</td>\n",
       "      <td>87</td>\n",
       "    </tr>\n",
       "    <tr>\n",
       "      <th>6</th>\n",
       "      <td>Gilbert M. 'Broncho Billy' Anderson</td>\n",
       "      <td>85</td>\n",
       "    </tr>\n",
       "    <tr>\n",
       "      <th>7</th>\n",
       "      <td>Kevin Dunn</td>\n",
       "      <td>84</td>\n",
       "    </tr>\n",
       "    <tr>\n",
       "      <th>8</th>\n",
       "      <td>Quasarman</td>\n",
       "      <td>84</td>\n",
       "    </tr>\n",
       "    <tr>\n",
       "      <th>9</th>\n",
       "      <td>Nica Noelle</td>\n",
       "      <td>78</td>\n",
       "    </tr>\n",
       "  </tbody>\n",
       "</table>\n",
       "</div>"
      ],
      "text/plain": [
       "                              Director  NumberOfMovies\n",
       "0                           Jim Powers             156\n",
       "1                       Dave Fleischer             109\n",
       "2                        D.W. Griffith             103\n",
       "3                      Lewin Fitzhamon              95\n",
       "4                          Al Christie              90\n",
       "5                       Georges Méliès              87\n",
       "6  Gilbert M. 'Broncho Billy' Anderson              85\n",
       "7                           Kevin Dunn              84\n",
       "8                            Quasarman              84\n",
       "9                          Nica Noelle              78"
      ]
     },
     "execution_count": 34,
     "metadata": {},
     "output_type": "execute_result"
    }
   ],
   "source": [
    "df_top10 = pd.DataFrame({'Director': freq_dirs.iloc[0:10].index,\n",
    "                         'NumberOfMovies': freq_dirs.iloc[0:10].values})\n",
    "df_top10"
   ]
  },
  {
   "cell_type": "code",
   "execution_count": 78,
   "metadata": {},
   "outputs": [],
   "source": [
    "# why there are a bunch of directors here that one does not know\n",
    "# remains to be google'd (e.g.: Nica Noelle)\n",
    "# Or try looking at the movies by Jim Powers:\n",
    "# df.loc[df.Director == 'Jim Powers']\n",
    "# but we leave this for now..."
   ]
  },
  {
   "cell_type": "code",
   "execution_count": 35,
   "metadata": {},
   "outputs": [
    {
     "name": "stdout",
     "output_type": "stream",
     "text": [
      "                       Director  imdbRating  imdbVotes\n",
      "16                  Meiert Avis         6.3       11.0\n",
      "18                   Fendou Liu         5.5       43.0\n",
      "21  Terry L. Noss, Richard Rich         5.0      813.0\n",
      "24                  Joseph Kane         7.6       16.0\n",
      "29               Ernst L. Frank         6.8       10.0\n",
      "30                    Tom Stone         7.2        5.0\n",
      "33               Lowell Sherman         7.4       25.0\n",
      "35                 Jane Campion         6.9       78.0\n",
      "39                Roland Lethem         7.1       14.0\n",
      "43                  James Ivory         5.4      777.0\n",
      "45                  Wallace Fox         5.9        7.0\n",
      "48                Mário Barroso         5.8      214.0\n",
      "49                   Russ Meyer         5.1      460.0\n",
      "51                William Berke         4.8       41.0\n",
      "52       Denys de La Patellière         6.8      130.0\n",
      "53                 Maury Dexter         3.7      122.0\n",
      "54                  Wilson Tong         5.3       21.0\n",
      "56         Adisorn Trisirikasem         7.3     1121.0\n",
      "57                 Robert Swope         7.9        7.0\n"
     ]
    }
   ],
   "source": [
    "# Free Data Mining: what else do we want to find out?\n",
    "#'Do the actors, writer, director have an impact on the imdb scoring?'\n",
    "# Let's start simple and try to check if director has an impact on rating\n",
    "# get all Directors and imdbRatings and drop NA's\n",
    "dfdr = df[['Director','imdbRating','imdbVotes']].dropna(axis=0)\n",
    "print(dfdr.iloc[1:20,])"
   ]
  },
  {
   "cell_type": "code",
   "execution_count": 36,
   "metadata": {},
   "outputs": [],
   "source": [
    "# This question needs to be precisised a bit more here since\n",
    "# we have a lot of directors, and we cannot simply dummy-code them\n",
    "# A big studio wants to know how \n",
    "# well the mean imdbrating of directors predicts the movie-rating,\n",
    "# director will be operationalized by their mean\n",
    "# rating; and hence we would like to know, if on average\n",
    "# the mean rating of a director is a good predictor of their \n",
    "# performance; if all directors had all their movie ratings\n",
    "# equal their mean rating, then their mean rating\n",
    "# gives perfect information on movie ratings; however,\n",
    "# if there is a lot \n",
    "# of variance per director across his/her movies in ratings\n",
    "# then this speaks to low predictiveness of the director's \n",
    "# mean rating\n",
    "# additional predictors can be number of votes, year, ...\n",
    "# interaction-terms: \n",
    "# Dependent variable: rating score of movie\n",
    "# Independent variable: director's mean movie score, number of votes, \n",
    "# interaction\n",
    "# mean movie score_number_of_votes\n",
    "\n",
    "# Attention: the data_set is large: we need to work with sub samples\n",
    "# Attention: we need to exclude all directors that have less than 2 \n",
    "# rated movies"
   ]
  },
  {
   "cell_type": "code",
   "execution_count": 40,
   "metadata": {},
   "outputs": [
    {
     "name": "stdout",
     "output_type": "stream",
     "text": [
      "0.00345697203252954036\r"
     ]
    },
    {
     "ename": "KeyboardInterrupt",
     "evalue": "",
     "output_type": "error",
     "traceback": [
      "\u001b[1;31m---------------------------------------------------------------------------\u001b[0m",
      "\u001b[1;31mKeyboardInterrupt\u001b[0m                         Traceback (most recent call last)",
      "\u001b[1;32m<ipython-input-40-1aa971263692>\u001b[0m in \u001b[0;36m<module>\u001b[1;34m()\u001b[0m\n\u001b[0;32m      9\u001b[0m \u001b[0mlen_dirs\u001b[0m \u001b[1;33m=\u001b[0m \u001b[0mlen\u001b[0m\u001b[1;33m(\u001b[0m\u001b[0mdirectors\u001b[0m\u001b[1;33m)\u001b[0m\u001b[1;33m\u001b[0m\u001b[0m\n\u001b[0;32m     10\u001b[0m \u001b[1;32mfor\u001b[0m \u001b[0mi\u001b[0m\u001b[1;33m,\u001b[0m\u001b[0md\u001b[0m \u001b[1;32min\u001b[0m \u001b[0menumerate\u001b[0m\u001b[1;33m(\u001b[0m\u001b[0mdirectors\u001b[0m\u001b[1;33m)\u001b[0m\u001b[1;33m:\u001b[0m\u001b[1;33m\u001b[0m\u001b[0m\n\u001b[1;32m---> 11\u001b[1;33m     \u001b[0mrdf\u001b[0m \u001b[1;33m=\u001b[0m \u001b[0mdfdr\u001b[0m\u001b[1;33m.\u001b[0m\u001b[0mloc\u001b[0m\u001b[1;33m[\u001b[0m\u001b[0mdf\u001b[0m\u001b[1;33m.\u001b[0m\u001b[0mDirector\u001b[0m \u001b[1;33m==\u001b[0m \u001b[0md\u001b[0m\u001b[1;33m,\u001b[0m\u001b[1;33m]\u001b[0m\u001b[1;33m\u001b[0m\u001b[0m\n\u001b[0m\u001b[0;32m     12\u001b[0m     \u001b[0mdirs_ratings\u001b[0m\u001b[1;33m.\u001b[0m\u001b[0mappend\u001b[0m\u001b[1;33m(\u001b[0m\u001b[0mdirector_rating\u001b[0m\u001b[1;33m(\u001b[0m\u001b[0mrdf\u001b[0m\u001b[1;33m)\u001b[0m\u001b[1;33m)\u001b[0m\u001b[1;33m\u001b[0m\u001b[0m\n\u001b[0;32m     13\u001b[0m     \u001b[1;31m#print(i,end=\"\\r\")\u001b[0m\u001b[1;33m\u001b[0m\u001b[1;33m\u001b[0m\u001b[0m\n",
      "\u001b[1;32m~\\AppData\\Local\\Continuum\\miniconda3\\lib\\site-packages\\pandas\\core\\indexing.py\u001b[0m in \u001b[0;36m__getitem__\u001b[1;34m(self, key)\u001b[0m\n\u001b[0;32m   1470\u001b[0m             \u001b[1;32mexcept\u001b[0m \u001b[1;33m(\u001b[0m\u001b[0mKeyError\u001b[0m\u001b[1;33m,\u001b[0m \u001b[0mIndexError\u001b[0m\u001b[1;33m)\u001b[0m\u001b[1;33m:\u001b[0m\u001b[1;33m\u001b[0m\u001b[0m\n\u001b[0;32m   1471\u001b[0m                 \u001b[1;32mpass\u001b[0m\u001b[1;33m\u001b[0m\u001b[0m\n\u001b[1;32m-> 1472\u001b[1;33m             \u001b[1;32mreturn\u001b[0m \u001b[0mself\u001b[0m\u001b[1;33m.\u001b[0m\u001b[0m_getitem_tuple\u001b[0m\u001b[1;33m(\u001b[0m\u001b[0mkey\u001b[0m\u001b[1;33m)\u001b[0m\u001b[1;33m\u001b[0m\u001b[0m\n\u001b[0m\u001b[0;32m   1473\u001b[0m         \u001b[1;32melse\u001b[0m\u001b[1;33m:\u001b[0m\u001b[1;33m\u001b[0m\u001b[0m\n\u001b[0;32m   1474\u001b[0m             \u001b[1;31m# we by definition only have the 0th axis\u001b[0m\u001b[1;33m\u001b[0m\u001b[1;33m\u001b[0m\u001b[0m\n",
      "\u001b[1;32m~\\AppData\\Local\\Continuum\\miniconda3\\lib\\site-packages\\pandas\\core\\indexing.py\u001b[0m in \u001b[0;36m_getitem_tuple\u001b[1;34m(self, tup)\u001b[0m\n\u001b[0;32m    888\u001b[0m                 \u001b[1;32mcontinue\u001b[0m\u001b[1;33m\u001b[0m\u001b[0m\n\u001b[0;32m    889\u001b[0m \u001b[1;33m\u001b[0m\u001b[0m\n\u001b[1;32m--> 890\u001b[1;33m             \u001b[0mretval\u001b[0m \u001b[1;33m=\u001b[0m \u001b[0mgetattr\u001b[0m\u001b[1;33m(\u001b[0m\u001b[0mretval\u001b[0m\u001b[1;33m,\u001b[0m \u001b[0mself\u001b[0m\u001b[1;33m.\u001b[0m\u001b[0mname\u001b[0m\u001b[1;33m)\u001b[0m\u001b[1;33m.\u001b[0m\u001b[0m_getitem_axis\u001b[0m\u001b[1;33m(\u001b[0m\u001b[0mkey\u001b[0m\u001b[1;33m,\u001b[0m \u001b[0maxis\u001b[0m\u001b[1;33m=\u001b[0m\u001b[0mi\u001b[0m\u001b[1;33m)\u001b[0m\u001b[1;33m\u001b[0m\u001b[0m\n\u001b[0m\u001b[0;32m    891\u001b[0m \u001b[1;33m\u001b[0m\u001b[0m\n\u001b[0;32m    892\u001b[0m         \u001b[1;32mreturn\u001b[0m \u001b[0mretval\u001b[0m\u001b[1;33m\u001b[0m\u001b[0m\n",
      "\u001b[1;32m~\\AppData\\Local\\Continuum\\miniconda3\\lib\\site-packages\\pandas\\core\\indexing.py\u001b[0m in \u001b[0;36m_getitem_axis\u001b[1;34m(self, key, axis)\u001b[0m\n\u001b[0;32m   1866\u001b[0m             \u001b[1;32mreturn\u001b[0m \u001b[0mself\u001b[0m\u001b[1;33m.\u001b[0m\u001b[0m_get_slice_axis\u001b[0m\u001b[1;33m(\u001b[0m\u001b[0mkey\u001b[0m\u001b[1;33m,\u001b[0m \u001b[0maxis\u001b[0m\u001b[1;33m=\u001b[0m\u001b[0maxis\u001b[0m\u001b[1;33m)\u001b[0m\u001b[1;33m\u001b[0m\u001b[0m\n\u001b[0;32m   1867\u001b[0m         \u001b[1;32melif\u001b[0m \u001b[0mcom\u001b[0m\u001b[1;33m.\u001b[0m\u001b[0mis_bool_indexer\u001b[0m\u001b[1;33m(\u001b[0m\u001b[0mkey\u001b[0m\u001b[1;33m)\u001b[0m\u001b[1;33m:\u001b[0m\u001b[1;33m\u001b[0m\u001b[0m\n\u001b[1;32m-> 1868\u001b[1;33m             \u001b[1;32mreturn\u001b[0m \u001b[0mself\u001b[0m\u001b[1;33m.\u001b[0m\u001b[0m_getbool_axis\u001b[0m\u001b[1;33m(\u001b[0m\u001b[0mkey\u001b[0m\u001b[1;33m,\u001b[0m \u001b[0maxis\u001b[0m\u001b[1;33m=\u001b[0m\u001b[0maxis\u001b[0m\u001b[1;33m)\u001b[0m\u001b[1;33m\u001b[0m\u001b[0m\n\u001b[0m\u001b[0;32m   1869\u001b[0m         \u001b[1;32melif\u001b[0m \u001b[0mis_list_like_indexer\u001b[0m\u001b[1;33m(\u001b[0m\u001b[0mkey\u001b[0m\u001b[1;33m)\u001b[0m\u001b[1;33m:\u001b[0m\u001b[1;33m\u001b[0m\u001b[0m\n\u001b[0;32m   1870\u001b[0m \u001b[1;33m\u001b[0m\u001b[0m\n",
      "\u001b[1;32m~\\AppData\\Local\\Continuum\\miniconda3\\lib\\site-packages\\pandas\\core\\indexing.py\u001b[0m in \u001b[0;36m_getbool_axis\u001b[1;34m(self, key, axis)\u001b[0m\n\u001b[0;32m   1491\u001b[0m             \u001b[0maxis\u001b[0m \u001b[1;33m=\u001b[0m \u001b[0mself\u001b[0m\u001b[1;33m.\u001b[0m\u001b[0maxis\u001b[0m \u001b[1;32mor\u001b[0m \u001b[1;36m0\u001b[0m\u001b[1;33m\u001b[0m\u001b[0m\n\u001b[0;32m   1492\u001b[0m         \u001b[0mlabels\u001b[0m \u001b[1;33m=\u001b[0m \u001b[0mself\u001b[0m\u001b[1;33m.\u001b[0m\u001b[0mobj\u001b[0m\u001b[1;33m.\u001b[0m\u001b[0m_get_axis\u001b[0m\u001b[1;33m(\u001b[0m\u001b[0maxis\u001b[0m\u001b[1;33m)\u001b[0m\u001b[1;33m\u001b[0m\u001b[0m\n\u001b[1;32m-> 1493\u001b[1;33m         \u001b[0mkey\u001b[0m \u001b[1;33m=\u001b[0m \u001b[0mcheck_bool_indexer\u001b[0m\u001b[1;33m(\u001b[0m\u001b[0mlabels\u001b[0m\u001b[1;33m,\u001b[0m \u001b[0mkey\u001b[0m\u001b[1;33m)\u001b[0m\u001b[1;33m\u001b[0m\u001b[0m\n\u001b[0m\u001b[0;32m   1494\u001b[0m         \u001b[0minds\u001b[0m\u001b[1;33m,\u001b[0m \u001b[1;33m=\u001b[0m \u001b[0mkey\u001b[0m\u001b[1;33m.\u001b[0m\u001b[0mnonzero\u001b[0m\u001b[1;33m(\u001b[0m\u001b[1;33m)\u001b[0m\u001b[1;33m\u001b[0m\u001b[0m\n\u001b[0;32m   1495\u001b[0m         \u001b[1;32mtry\u001b[0m\u001b[1;33m:\u001b[0m\u001b[1;33m\u001b[0m\u001b[0m\n",
      "\u001b[1;32m~\\AppData\\Local\\Continuum\\miniconda3\\lib\\site-packages\\pandas\\core\\indexing.py\u001b[0m in \u001b[0;36mcheck_bool_indexer\u001b[1;34m(ax, key)\u001b[0m\n\u001b[0;32m   2351\u001b[0m     \u001b[0mresult\u001b[0m \u001b[1;33m=\u001b[0m \u001b[0mkey\u001b[0m\u001b[1;33m\u001b[0m\u001b[0m\n\u001b[0;32m   2352\u001b[0m     \u001b[1;32mif\u001b[0m \u001b[0misinstance\u001b[0m\u001b[1;33m(\u001b[0m\u001b[0mkey\u001b[0m\u001b[1;33m,\u001b[0m \u001b[0mABCSeries\u001b[0m\u001b[1;33m)\u001b[0m \u001b[1;32mand\u001b[0m \u001b[1;32mnot\u001b[0m \u001b[0mkey\u001b[0m\u001b[1;33m.\u001b[0m\u001b[0mindex\u001b[0m\u001b[1;33m.\u001b[0m\u001b[0mequals\u001b[0m\u001b[1;33m(\u001b[0m\u001b[0max\u001b[0m\u001b[1;33m)\u001b[0m\u001b[1;33m:\u001b[0m\u001b[1;33m\u001b[0m\u001b[0m\n\u001b[1;32m-> 2353\u001b[1;33m         \u001b[0mresult\u001b[0m \u001b[1;33m=\u001b[0m \u001b[0mresult\u001b[0m\u001b[1;33m.\u001b[0m\u001b[0mreindex\u001b[0m\u001b[1;33m(\u001b[0m\u001b[0max\u001b[0m\u001b[1;33m)\u001b[0m\u001b[1;33m\u001b[0m\u001b[0m\n\u001b[0m\u001b[0;32m   2354\u001b[0m         \u001b[0mmask\u001b[0m \u001b[1;33m=\u001b[0m \u001b[0misna\u001b[0m\u001b[1;33m(\u001b[0m\u001b[0mresult\u001b[0m\u001b[1;33m.\u001b[0m\u001b[0m_values\u001b[0m\u001b[1;33m)\u001b[0m\u001b[1;33m\u001b[0m\u001b[0m\n\u001b[0;32m   2355\u001b[0m         \u001b[1;32mif\u001b[0m \u001b[0mmask\u001b[0m\u001b[1;33m.\u001b[0m\u001b[0many\u001b[0m\u001b[1;33m(\u001b[0m\u001b[1;33m)\u001b[0m\u001b[1;33m:\u001b[0m\u001b[1;33m\u001b[0m\u001b[0m\n",
      "\u001b[1;32m~\\AppData\\Local\\Continuum\\miniconda3\\lib\\site-packages\\pandas\\core\\series.py\u001b[0m in \u001b[0;36mreindex\u001b[1;34m(self, index, **kwargs)\u001b[0m\n\u001b[0;32m   3323\u001b[0m     \u001b[1;33m@\u001b[0m\u001b[0mAppender\u001b[0m\u001b[1;33m(\u001b[0m\u001b[0mgeneric\u001b[0m\u001b[1;33m.\u001b[0m\u001b[0m_shared_docs\u001b[0m\u001b[1;33m[\u001b[0m\u001b[1;34m'reindex'\u001b[0m\u001b[1;33m]\u001b[0m \u001b[1;33m%\u001b[0m \u001b[0m_shared_doc_kwargs\u001b[0m\u001b[1;33m)\u001b[0m\u001b[1;33m\u001b[0m\u001b[0m\n\u001b[0;32m   3324\u001b[0m     \u001b[1;32mdef\u001b[0m \u001b[0mreindex\u001b[0m\u001b[1;33m(\u001b[0m\u001b[0mself\u001b[0m\u001b[1;33m,\u001b[0m \u001b[0mindex\u001b[0m\u001b[1;33m=\u001b[0m\u001b[1;32mNone\u001b[0m\u001b[1;33m,\u001b[0m \u001b[1;33m**\u001b[0m\u001b[0mkwargs\u001b[0m\u001b[1;33m)\u001b[0m\u001b[1;33m:\u001b[0m\u001b[1;33m\u001b[0m\u001b[0m\n\u001b[1;32m-> 3325\u001b[1;33m         \u001b[1;32mreturn\u001b[0m \u001b[0msuper\u001b[0m\u001b[1;33m(\u001b[0m\u001b[0mSeries\u001b[0m\u001b[1;33m,\u001b[0m \u001b[0mself\u001b[0m\u001b[1;33m)\u001b[0m\u001b[1;33m.\u001b[0m\u001b[0mreindex\u001b[0m\u001b[1;33m(\u001b[0m\u001b[0mindex\u001b[0m\u001b[1;33m=\u001b[0m\u001b[0mindex\u001b[0m\u001b[1;33m,\u001b[0m \u001b[1;33m**\u001b[0m\u001b[0mkwargs\u001b[0m\u001b[1;33m)\u001b[0m\u001b[1;33m\u001b[0m\u001b[0m\n\u001b[0m\u001b[0;32m   3326\u001b[0m \u001b[1;33m\u001b[0m\u001b[0m\n\u001b[0;32m   3327\u001b[0m     def drop(self, labels=None, axis=0, index=None, columns=None,\n",
      "\u001b[1;32m~\\AppData\\Local\\Continuum\\miniconda3\\lib\\site-packages\\pandas\\core\\generic.py\u001b[0m in \u001b[0;36mreindex\u001b[1;34m(self, *args, **kwargs)\u001b[0m\n\u001b[0;32m   3687\u001b[0m         \u001b[1;31m# perform the reindex on the axes\u001b[0m\u001b[1;33m\u001b[0m\u001b[1;33m\u001b[0m\u001b[0m\n\u001b[0;32m   3688\u001b[0m         return self._reindex_axes(axes, level, limit, tolerance, method,\n\u001b[1;32m-> 3689\u001b[1;33m                                   fill_value, copy).__finalize__(self)\n\u001b[0m\u001b[0;32m   3690\u001b[0m \u001b[1;33m\u001b[0m\u001b[0m\n\u001b[0;32m   3691\u001b[0m     def _reindex_axes(self, axes, level, limit, tolerance, method, fill_value,\n",
      "\u001b[1;32m~\\AppData\\Local\\Continuum\\miniconda3\\lib\\site-packages\\pandas\\core\\generic.py\u001b[0m in \u001b[0;36m_reindex_axes\u001b[1;34m(self, axes, level, limit, tolerance, method, fill_value, copy)\u001b[0m\n\u001b[0;32m   3700\u001b[0m             \u001b[0max\u001b[0m \u001b[1;33m=\u001b[0m \u001b[0mself\u001b[0m\u001b[1;33m.\u001b[0m\u001b[0m_get_axis\u001b[0m\u001b[1;33m(\u001b[0m\u001b[0ma\u001b[0m\u001b[1;33m)\u001b[0m\u001b[1;33m\u001b[0m\u001b[0m\n\u001b[0;32m   3701\u001b[0m             new_index, indexer = ax.reindex(labels, level=level, limit=limit,\n\u001b[1;32m-> 3702\u001b[1;33m                                             tolerance=tolerance, method=method)\n\u001b[0m\u001b[0;32m   3703\u001b[0m \u001b[1;33m\u001b[0m\u001b[0m\n\u001b[0;32m   3704\u001b[0m             \u001b[0maxis\u001b[0m \u001b[1;33m=\u001b[0m \u001b[0mself\u001b[0m\u001b[1;33m.\u001b[0m\u001b[0m_get_axis_number\u001b[0m\u001b[1;33m(\u001b[0m\u001b[0ma\u001b[0m\u001b[1;33m)\u001b[0m\u001b[1;33m\u001b[0m\u001b[0m\n",
      "\u001b[1;32m~\\AppData\\Local\\Continuum\\miniconda3\\lib\\site-packages\\pandas\\core\\indexes\\base.py\u001b[0m in \u001b[0;36mreindex\u001b[1;34m(self, target, method, level, limit, tolerance)\u001b[0m\n\u001b[0;32m   3620\u001b[0m                     indexer = self.get_indexer(target, method=method,\n\u001b[0;32m   3621\u001b[0m                                                \u001b[0mlimit\u001b[0m\u001b[1;33m=\u001b[0m\u001b[0mlimit\u001b[0m\u001b[1;33m,\u001b[0m\u001b[1;33m\u001b[0m\u001b[0m\n\u001b[1;32m-> 3622\u001b[1;33m                                                tolerance=tolerance)\n\u001b[0m\u001b[0;32m   3623\u001b[0m                 \u001b[1;32melse\u001b[0m\u001b[1;33m:\u001b[0m\u001b[1;33m\u001b[0m\u001b[0m\n\u001b[0;32m   3624\u001b[0m                     \u001b[1;32mif\u001b[0m \u001b[0mmethod\u001b[0m \u001b[1;32mis\u001b[0m \u001b[1;32mnot\u001b[0m \u001b[1;32mNone\u001b[0m \u001b[1;32mor\u001b[0m \u001b[0mlimit\u001b[0m \u001b[1;32mis\u001b[0m \u001b[1;32mnot\u001b[0m \u001b[1;32mNone\u001b[0m\u001b[1;33m:\u001b[0m\u001b[1;33m\u001b[0m\u001b[0m\n",
      "\u001b[1;32m~\\AppData\\Local\\Continuum\\miniconda3\\lib\\site-packages\\pandas\\core\\indexes\\base.py\u001b[0m in \u001b[0;36mget_indexer\u001b[1;34m(self, target, method, limit, tolerance)\u001b[0m\n\u001b[0;32m   3257\u001b[0m                                  'backfill or nearest reindexing')\n\u001b[0;32m   3258\u001b[0m \u001b[1;33m\u001b[0m\u001b[0m\n\u001b[1;32m-> 3259\u001b[1;33m             \u001b[0mindexer\u001b[0m \u001b[1;33m=\u001b[0m \u001b[0mself\u001b[0m\u001b[1;33m.\u001b[0m\u001b[0m_engine\u001b[0m\u001b[1;33m.\u001b[0m\u001b[0mget_indexer\u001b[0m\u001b[1;33m(\u001b[0m\u001b[0mtarget\u001b[0m\u001b[1;33m.\u001b[0m\u001b[0m_ndarray_values\u001b[0m\u001b[1;33m)\u001b[0m\u001b[1;33m\u001b[0m\u001b[0m\n\u001b[0m\u001b[0;32m   3260\u001b[0m \u001b[1;33m\u001b[0m\u001b[0m\n\u001b[0;32m   3261\u001b[0m         \u001b[1;32mreturn\u001b[0m \u001b[0m_ensure_platform_int\u001b[0m\u001b[1;33m(\u001b[0m\u001b[0mindexer\u001b[0m\u001b[1;33m)\u001b[0m\u001b[1;33m\u001b[0m\u001b[0m\n",
      "\u001b[1;32mpandas\\_libs\\index.pyx\u001b[0m in \u001b[0;36mpandas._libs.index.IndexEngine.get_indexer\u001b[1;34m()\u001b[0m\n",
      "\u001b[1;32mpandas\\_libs\\hashtable_class_helper.pxi\u001b[0m in \u001b[0;36mpandas._libs.hashtable.Int64HashTable.lookup\u001b[1;34m()\u001b[0m\n",
      "\u001b[1;32m~\\AppData\\Local\\Continuum\\miniconda3\\lib\\site-packages\\numpy\\core\\numeric.py\u001b[0m in \u001b[0;36masarray\u001b[1;34m(a, dtype, order)\u001b[0m\n\u001b[0;32m    422\u001b[0m \u001b[1;33m\u001b[0m\u001b[0m\n\u001b[0;32m    423\u001b[0m \u001b[1;33m\u001b[0m\u001b[0m\n\u001b[1;32m--> 424\u001b[1;33m \u001b[1;32mdef\u001b[0m \u001b[0masarray\u001b[0m\u001b[1;33m(\u001b[0m\u001b[0ma\u001b[0m\u001b[1;33m,\u001b[0m \u001b[0mdtype\u001b[0m\u001b[1;33m=\u001b[0m\u001b[1;32mNone\u001b[0m\u001b[1;33m,\u001b[0m \u001b[0morder\u001b[0m\u001b[1;33m=\u001b[0m\u001b[1;32mNone\u001b[0m\u001b[1;33m)\u001b[0m\u001b[1;33m:\u001b[0m\u001b[1;33m\u001b[0m\u001b[0m\n\u001b[0m\u001b[0;32m    425\u001b[0m     \"\"\"Convert the input to an array.\n\u001b[0;32m    426\u001b[0m \u001b[1;33m\u001b[0m\u001b[0m\n",
      "\u001b[1;31mKeyboardInterrupt\u001b[0m: "
     ]
    }
   ],
   "source": [
    "# get the mean director's rating\n",
    "# TODO: implement subsampling\n",
    "def director_rating(rdf):\n",
    "    return(np.multiply(rdf.imdbRating,rdf.imdbVotes)/np.sum(rdf.imdbVotes))\n",
    "\n",
    "directors = dfdr.Director.unique()\n",
    "\n",
    "dirs_ratings = []\n",
    "len_dirs = len(directors)\n",
    "for i,d in enumerate(directors):\n",
    "    rdf = dfdr.loc[df.Director == d,]\n",
    "    dirs_ratings.append(director_rating(rdf))\n",
    "    #print(i,end=\"\\r\")\n",
    "    print(i/len_dirs, end=\"\\r\")\n",
    "    \n",
    "print(dirs_rating)\n",
    "    \n",
    "# TODO: create predict function for movie rating "
   ]
  },
  {
   "cell_type": "code",
   "execution_count": 41,
   "metadata": {},
   "outputs": [
    {
     "data": {
      "text/html": [
       "<div>\n",
       "<style scoped>\n",
       "    .dataframe tbody tr th:only-of-type {\n",
       "        vertical-align: middle;\n",
       "    }\n",
       "\n",
       "    .dataframe tbody tr th {\n",
       "        vertical-align: top;\n",
       "    }\n",
       "\n",
       "    .dataframe thead th {\n",
       "        text-align: right;\n",
       "    }\n",
       "</style>\n",
       "<table border=\"1\" class=\"dataframe\">\n",
       "  <thead>\n",
       "    <tr style=\"text-align: right;\">\n",
       "      <th></th>\n",
       "      <th>Director</th>\n",
       "      <th>imdbRating</th>\n",
       "      <th>imdbVotes</th>\n",
       "    </tr>\n",
       "  </thead>\n",
       "  <tbody>\n",
       "    <tr>\n",
       "      <th>362</th>\n",
       "      <td>Sally Mitlas</td>\n",
       "      <td>8.0</td>\n",
       "      <td>16.0</td>\n",
       "    </tr>\n",
       "  </tbody>\n",
       "</table>\n",
       "</div>"
      ],
      "text/plain": [
       "         Director  imdbRating  imdbVotes\n",
       "362  Sally Mitlas         8.0       16.0"
      ]
     },
     "execution_count": 41,
     "metadata": {},
     "output_type": "execute_result"
    }
   ],
   "source": [
    "rdf"
   ]
  },
  {
   "cell_type": "code",
   "execution_count": null,
   "metadata": {},
   "outputs": [],
   "source": []
  }
 ],
 "metadata": {
  "kernelspec": {
   "display_name": "Python 3",
   "language": "python",
   "name": "python3"
  },
  "language_info": {
   "codemirror_mode": {
    "name": "ipython",
    "version": 3
   },
   "file_extension": ".py",
   "mimetype": "text/x-python",
   "name": "python",
   "nbconvert_exporter": "python",
   "pygments_lexer": "ipython3",
   "version": "3.5.5"
  }
 },
 "nbformat": 4,
 "nbformat_minor": 2
}
