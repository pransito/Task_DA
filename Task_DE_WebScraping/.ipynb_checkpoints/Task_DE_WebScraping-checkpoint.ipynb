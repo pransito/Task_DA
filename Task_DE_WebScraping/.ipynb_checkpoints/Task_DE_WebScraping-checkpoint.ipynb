{
 "cells": [
  {
   "cell_type": "code",
   "execution_count": 1,
   "metadata": {},
   "outputs": [],
   "source": [
    "import requests\n",
    "from bs4 import BeautifulSoup\n",
    "import html5lib\n",
    "import re\n",
    "from urllib.parse import urljoin\n",
    "import sqlite3\n",
    "import pandas as pd\n",
    "import numpy as np"
   ]
  },
  {
   "cell_type": "code",
   "execution_count": 2,
   "metadata": {},
   "outputs": [],
   "source": [
    "# base url\n",
    "# there are a bunch of \"makes\" (manufacturers) which are buttons\n",
    "# all associated with links to the catalogue\n",
    "# we need to get the name of the make and the link\n",
    "# let's build a base function which creates the soup of html\n",
    "base = 'https://www.urparts.com/'\n",
    "extension = 'index.cfm/page/catalogue'\n",
    "\n",
    "def get_soup(cur_url):\n",
    "    s      = requests.session()\n",
    "    r      = s.get(cur_url)\n",
    "    soup   = BeautifulSoup(r.text,\"html5lib\")\n",
    "    return(soup)\n",
    "\n",
    "soup = get_soup(urljoin(base,extension))"
   ]
  },
  {
   "cell_type": "code",
   "execution_count": 3,
   "metadata": {},
   "outputs": [
    {
     "name": "stdout",
     "output_type": "stream",
     "text": [
      "{('Ammann',): 'index.cfm/page/catalogue/Ammann', ('Atlas',): 'index.cfm/page/catalogue/Atlas', ('Atlas-Copco',): 'index.cfm/page/catalogue/Atlas-Copco', ('Bell',): 'index.cfm/page/catalogue/Bell', ('Bomag',): 'index.cfm/page/catalogue/Bomag', ('Doosan',): 'index.cfm/page/catalogue/Doosan', ('FAI',): 'index.cfm/page/catalogue/FAI', ('Hitachi',): 'index.cfm/page/catalogue/Hitachi', ('Hyundai',): 'index.cfm/page/catalogue/Hyundai', ('Isuzu',): 'index.cfm/page/catalogue/Isuzu', ('JCB',): 'index.cfm/page/catalogue/JCB', ('Kawasaki',): 'index.cfm/page/catalogue/Kawasaki', ('Komatsu',): 'index.cfm/page/catalogue/Komatsu', ('Mitsubishi',): 'index.cfm/page/catalogue/Mitsubishi', ('Moxy',): 'index.cfm/page/catalogue/Moxy', ('Volvo',): 'index.cfm/page/catalogue/Volvo'}\n"
     ]
    }
   ],
   "source": [
    "# now we bild a function that will get all the links\n",
    "# filters them by a specific link string\n",
    "def get_links(soup,link_string,final_layer=False):\n",
    "    \"\"\"\n",
    "    INPUT:\n",
    "    soup:        soup oject of bs4 of html\n",
    "    link_string: tuple of words\n",
    "    final_layer: if True then the critical string gets '?part=' attached\n",
    "                 otherwise: '/'; default: False\n",
    "    \n",
    "    OUTPUT:\n",
    "    links_dict: dictionary that has as keys the names of the links and as values\n",
    "                the actual url's; the keys are tuples representing the layers of\n",
    "                the website; link_string becomes longer by adding the name of the link\n",
    "                but the first elemnt of the tuple is cut off (here: \"catalogue\")\n",
    "                because it is the seed website and is the same for all tuples; and thus\n",
    "                of no informational value\n",
    "    \"\"\"\n",
    "    # make the critical string to filter links\n",
    "    if final_layer:\n",
    "        critical_string = link_string[0] + '?part='\n",
    "    else:\n",
    "        critical_string = '/'.join(link_string)\n",
    "        critical_string = critical_string + '/'\n",
    "    \n",
    "    links = soup.find_all(\"li\")\n",
    "    links_dict = {}\n",
    "    for l in links:\n",
    "        if l.find('a') is not None:\n",
    "            cur_text = l.get_text().strip()\n",
    "            cur_url  = l.a['href']\n",
    "            \n",
    "            if cur_url.find(critical_string) is not -1:\n",
    "                # make the key for the cur_url\n",
    "                str_list = list(link_string)\n",
    "                str_list.append(cur_text)\n",
    "                new_key = tuple(str_list[1:])\n",
    "                links_dict[new_key] = cur_url\n",
    "    return(links_dict)\n",
    "\n",
    "manufacturers = get_links(soup,link_string=tuple(['catalogue']))\n",
    "print(manufacturers)"
   ]
  },
  {
   "cell_type": "code",
   "execution_count": 4,
   "metadata": {},
   "outputs": [],
   "source": [
    "# now we define a function that can be applied recursively\n",
    "# building a dictionary and then going a layer deeper and thereby\n",
    "# updating the dictionary\n",
    "# it thus digs into the links that fullfill a certain criterion\n",
    "# the criterion tuple will be growing starting with 'catalogue'\n",
    "# and the subsequent names of the links\n",
    "\n",
    "# the function can take as input a base-link (start of recursion)\n",
    "# or a dictionary to dig into\n",
    "base = 'https://www.urparts.com/'\n",
    "extension = 'index.cfm/page/catalogue'\n",
    "\n",
    "def scrape(base=None, scrape_dict=None,extension=extension,condition_seed='catalogue',final_layer=False):\n",
    "    \"\"\"\n",
    "    INPUT:\n",
    "    base:        base website to scrape\n",
    "    extension:   extension from base that yields the website to scrape\n",
    "    scrape_dict: dictionary with websites that should be scraped further (next layer)\n",
    "    \n",
    "    OUTPUT:\n",
    "    new_dict:    a new dictionary with tuples as keys denoting the location with respect\n",
    "                 to urljoin(base,extension) website and urls as values\n",
    "    \n",
    "    \"\"\"\n",
    "    if base is None and scrape_dict is None:\n",
    "        raise ValueError('Neither base_link nor scrape_dict provided')\n",
    "        \n",
    "    if base is None or extension is None:\n",
    "        raise ValueError('base and extension need to be always provided')\n",
    "    \n",
    "    if scrape_dict is None:\n",
    "        #print('create scrape_dict')\n",
    "        # initialization\n",
    "        cur_url = urljoin(base,extension)\n",
    "        soup = get_soup(cur_url)\n",
    "        scrape_dict = get_links(soup,link_string=tuple([condition_seed]))\n",
    "\n",
    "    # create new dict from input dict    \n",
    "    new_dict = {}\n",
    "    for s in list(scrape_dict.keys()):\n",
    "        # get the url\n",
    "        cur_url = urljoin(base,scrape_dict[s])\n",
    "        soup = get_soup(cur_url)\n",
    "        \n",
    "        # build the link_string tuple\n",
    "        critical_string = [condition_seed]\n",
    "        add_string = list(s)\n",
    "        critical_string = tuple(critical_string + add_string)\n",
    "        cur_dict = get_links(soup,link_string=critical_string,final_layer=final_layer)\n",
    "        \n",
    "        new_dict.update(cur_dict)\n",
    "            \n",
    "    return(new_dict)"
   ]
  },
  {
   "cell_type": "code",
   "execution_count": 5,
   "metadata": {},
   "outputs": [],
   "source": [
    "# when we call the function the first time (using base)\n",
    "# then th first soup is scraped and the resulting dictionary immediately scraped one layer\n",
    "# deeper\n",
    "new_dict = scrape(base=base, scrape_dict=None,extension=extension,condition_seed='catalogue')"
   ]
  },
  {
   "cell_type": "code",
   "execution_count": 6,
   "metadata": {},
   "outputs": [
    {
     "name": "stdout",
     "output_type": "stream",
     "text": [
      "{('Ammann', 'Roller Parts'): 'index.cfm/page/catalogue/Ammann/Roller Parts', ('Atlas', 'Excavator Parts'): 'index.cfm/page/catalogue/Atlas/Excavator Parts', ('Atlas-Copco', 'Other Parts'): 'index.cfm/page/catalogue/Atlas-Copco/Other Parts', ('Bell', 'Backhoe Parts'): 'index.cfm/page/catalogue/Bell/Backhoe Parts', ('Bell', 'Grader Parts'): 'index.cfm/page/catalogue/Bell/Grader Parts', ('Bell', 'Loader Parts'): 'index.cfm/page/catalogue/Bell/Loader Parts', ('Bell', 'Off Road Truck Parts'): 'index.cfm/page/catalogue/Bell/Off Road Truck Parts', ('Bomag', 'Roller Parts'): 'index.cfm/page/catalogue/Bomag/Roller Parts', ('Doosan', 'Excavator Parts'): 'index.cfm/page/catalogue/Doosan/Excavator Parts', ('Doosan', 'Loader Parts'): 'index.cfm/page/catalogue/Doosan/Loader Parts', ('FAI', 'Excavator Parts'): 'index.cfm/page/catalogue/FAI/Excavator Parts', ('Hitachi', 'Backhoe Parts'): 'index.cfm/page/catalogue/Hitachi/Backhoe Parts', ('Hitachi', 'Crane Parts'): 'index.cfm/page/catalogue/Hitachi/Crane Parts', ('Hitachi', 'Dozers and Crawler Loader Parts'): 'index.cfm/page/catalogue/Hitachi/Dozers and Crawler Loader Parts', ('Hitachi', 'Excavator Parts'): 'index.cfm/page/catalogue/Hitachi/Excavator Parts', ('Hitachi', 'Road Truck Parts'): 'index.cfm/page/catalogue/Hitachi/Road Truck Parts', ('Hyundai', 'Crane Parts'): 'index.cfm/page/catalogue/Hyundai/Crane Parts', ('Hyundai', 'Dozers and Crawler Loader Parts'): 'index.cfm/page/catalogue/Hyundai/Dozers and Crawler Loader Parts', ('Hyundai', 'Excavator Parts'): 'index.cfm/page/catalogue/Hyundai/Excavator Parts', ('Hyundai', 'Forklift Parts'): 'index.cfm/page/catalogue/Hyundai/Forklift Parts', ('Hyundai', 'Loader Parts'): 'index.cfm/page/catalogue/Hyundai/Loader Parts', ('Isuzu', 'Engines & Engine Parts'): 'index.cfm/page/catalogue/Isuzu/Engines & Engine Parts', ('JCB', 'Backhoe Parts'): 'index.cfm/page/catalogue/JCB/Backhoe Parts', ('JCB', 'Engines & Engine Parts'): 'index.cfm/page/catalogue/JCB/Engines & Engine Parts', ('JCB', 'Excavator Parts'): 'index.cfm/page/catalogue/JCB/Excavator Parts', ('JCB', 'Loader Parts'): 'index.cfm/page/catalogue/JCB/Loader Parts', ('JCB', 'Off Road Truck Parts'): 'index.cfm/page/catalogue/JCB/Off Road Truck Parts', ('Kawasaki', 'Loader Parts'): 'index.cfm/page/catalogue/Kawasaki/Loader Parts', ('Komatsu', 'Backhoe Parts'): 'index.cfm/page/catalogue/Komatsu/Backhoe Parts', ('Komatsu', 'Crane Parts'): 'index.cfm/page/catalogue/Komatsu/Crane Parts', ('Komatsu', 'Dozers and Crawler Loader Parts'): 'index.cfm/page/catalogue/Komatsu/Dozers and Crawler Loader Parts', ('Komatsu', 'Excavator Parts'): 'index.cfm/page/catalogue/Komatsu/Excavator Parts', ('Komatsu', 'Grader Parts'): 'index.cfm/page/catalogue/Komatsu/Grader Parts', ('Komatsu', 'Loader Parts'): 'index.cfm/page/catalogue/Komatsu/Loader Parts', ('Mitsubishi', 'Engines & Engine Parts'): 'index.cfm/page/catalogue/Mitsubishi/Engines & Engine Parts', ('Moxy', 'Off Road Truck Parts'): 'index.cfm/page/catalogue/Moxy/Off Road Truck Parts', ('Volvo', 'Backhoe Parts'): 'index.cfm/page/catalogue/Volvo/Backhoe Parts', ('Volvo', 'Excavator Parts'): 'index.cfm/page/catalogue/Volvo/Excavator Parts', ('Volvo', 'Grader Parts'): 'index.cfm/page/catalogue/Volvo/Grader Parts', ('Volvo', 'Loader Parts'): 'index.cfm/page/catalogue/Volvo/Loader Parts', ('Volvo', 'Off Road Truck Parts'): 'index.cfm/page/catalogue/Volvo/Off Road Truck Parts', ('Volvo', 'Roller Parts'): 'index.cfm/page/catalogue/Volvo/Roller Parts'}\n"
     ]
    }
   ],
   "source": [
    "print(new_dict)"
   ]
  },
  {
   "cell_type": "code",
   "execution_count": 7,
   "metadata": {},
   "outputs": [],
   "source": [
    "# doing it another time...\n",
    "new_dict = scrape(base=base, scrape_dict=new_dict,extension=extension,condition_seed='catalogue')"
   ]
  },
  {
   "cell_type": "code",
   "execution_count": 8,
   "metadata": {},
   "outputs": [
    {
     "name": "stdout",
     "output_type": "stream",
     "text": [
      "['Ammann', 'Atlas', 'Atlas-Copco', 'Bell', 'Bomag', 'Doosan', 'FAI', 'Hitachi', 'Hyundai', 'JCB', 'Kawasaki', 'Komatsu', 'Moxy', 'Volvo']\n"
     ]
    }
   ],
   "source": [
    "# another layer makes it run very slowly and the dictionary to be held in working memory\n",
    "# is liable to be getting too large\n",
    "# so we want to split the problem by first layer and then write to a database\n",
    "all_keys = new_dict.keys()\n",
    "first_layer = [i[0] for i in all_keys]\n",
    "first_layer_set = list(set(first_layer))\n",
    "first_layer_set.sort()\n",
    "print(first_layer_set)"
   ]
  },
  {
   "cell_type": "code",
   "execution_count": 9,
   "metadata": {},
   "outputs": [
    {
     "name": "stdout",
     "output_type": "stream",
     "text": [
      "{('Atlas-Copco', 'Other Parts', 'ROC F9-11'): 'index.cfm/page/catalogue/Atlas-Copco/Other Parts/ROC F9-11', ('Atlas-Copco', 'Other Parts', 'ROC L8 TH, SM'): 'index.cfm/page/catalogue/Atlas-Copco/Other Parts/ROC L8 TH, SM'}\n"
     ]
    }
   ],
   "source": [
    "# function to split off dictionary\n",
    "# according to first layer name\n",
    "def get_part_dict(new_dict,first_layer_name):\n",
    "    cur_dict = {}\n",
    "    key_list = list(all_keys)\n",
    "    for k in key_list:\n",
    "        # checks the first element of the key tuple\n",
    "        if k[0] == first_layer_name:\n",
    "            cur_dict.update({k: new_dict[k]})\n",
    "    return(cur_dict)\n",
    "\n",
    "cur_dict = get_part_dict(new_dict,first_layer_set[2])\n",
    "print(cur_dict)\n"
   ]
  },
  {
   "cell_type": "code",
   "execution_count": 10,
   "metadata": {},
   "outputs": [
    {
     "name": "stdout",
     "output_type": "stream",
     "text": [
      "Working on: Ammann\n",
      "Working on: Atlas\n",
      "Working on: Atlas-Copco\n",
      "Working on: Bell\n"
     ]
    }
   ],
   "source": [
    "for i,f in enumerate(first_layer_set):\n",
    "    if i > 3:\n",
    "        break\n",
    "    print('Working on: ' + f)\n",
    "    # split off the current smaller dictionary\n",
    "    cur_dict = get_part_dict(new_dict,f)\n",
    "    \n",
    "    # scrape\n",
    "    # this is the final layer, which changes the string affix to search for\n",
    "    cur_dict = scrape(base=base, scrape_dict=cur_dict,extension=extension,condition_seed='catalogue',final_layer=True)\n",
    "    \n",
    "    # put the result into a data.frame\n",
    "    data = []\n",
    "    cur_keys = list(cur_dict.keys())\n",
    "    for k in cur_keys:\n",
    "        k_list = list(k)\n",
    "        # split the last string variable\n",
    "        # only first split will be taken into account (ot ignore ' - ' in later names)\n",
    "        k_list = k_list[:-1] + k_list[-1].split(' - ',maxsplit=1)\n",
    "        cur_line = k_list + [cur_dict[k]]\n",
    "        data.append(cur_line)\n",
    "    \n",
    "    cur_df = pd.DataFrame(data)\n",
    "    cur_df.columns = ['manufacturer','category','model','part','part_category','link_extension']\n",
    "    \n",
    "    # put into data base\n",
    "    connection = sqlite3.connect(\"catalogue.db\")\n",
    "    cur_df.to_sql(con=connection,name=f,if_exists = 'replace')\n",
    "    \n",
    "    # clear variables\n",
    "    cur_df = []\n",
    "    cur_dict = {}"
   ]
  },
  {
   "cell_type": "code",
   "execution_count": 11,
   "metadata": {},
   "outputs": [],
   "source": [
    "# the scraping takes too long\n",
    "# Hitachi has just too many subpages\n",
    "# I'd have to look into time-saving / memory saving strategies\n",
    "# ideas:\n",
    "#  faster requests; more efficient html parser\n",
    "#  somehow reduce the number of website calls\n",
    "#  go directly from the final page and use the '?part=' number\n",
    "#  this may be well over a million, where to start, where to end?"
   ]
  },
  {
   "cell_type": "code",
   "execution_count": 12,
   "metadata": {},
   "outputs": [
    {
     "name": "stdout",
     "output_type": "stream",
     "text": [
      "   index manufacturer      category   model      part part_category  \\\n",
      "0      0       Ammann  Roller Parts  ASC100  ND011710    LEFT COVER   \n",
      "1      1       Ammann  Roller Parts  ASC100  ND011758      VIBRATOR   \n",
      "2      2       Ammann  Roller Parts  ASC100  ND011785   RIGHT COVER   \n",
      "3      3       Ammann  Roller Parts  ASC100  ND017673     ECCENTRIC   \n",
      "4      4       Ammann  Roller Parts  ASC100  ND017675     ECCENTRIC   \n",
      "5      5       Ammann  Roller Parts  ASC100  ND018184           HUB   \n",
      "6      6       Ammann  Roller Parts  ASC100  ND018193       BRACKET   \n",
      "7      7       Ammann  Roller Parts  ASC100  ND018214    LEFT SHAFT   \n",
      "8      8       Ammann  Roller Parts  ASC100  ND018216   RIGHT SHAFT   \n",
      "9      9       Ammann  Roller Parts  ASC100  ND018218         SHAFT   \n",
      "\n",
      "                        link_extension  \n",
      "0  index.cfm/page/catalogue?part=18396  \n",
      "1  index.cfm/page/catalogue?part=20631  \n",
      "2  index.cfm/page/catalogue?part=19582  \n",
      "3  index.cfm/page/catalogue?part=17535  \n",
      "4  index.cfm/page/catalogue?part=17536  \n",
      "5  index.cfm/page/catalogue?part=18226  \n",
      "6  index.cfm/page/catalogue?part=16816  \n",
      "7  index.cfm/page/catalogue?part=18416  \n",
      "8  index.cfm/page/catalogue?part=19602  \n",
      "9  index.cfm/page/catalogue?part=19896  \n",
      "   index manufacturer              category   model      part  \\\n",
      "0      0         Bell         Backhoe Parts  315 SJ  RE532627   \n",
      "1      1         Bell         Backhoe Parts  315 SJ  RE568071   \n",
      "2      2         Bell          Grader Parts    670G  AT191095   \n",
      "3      3         Bell          Grader Parts    670G  RE569927   \n",
      "4      4         Bell          Loader Parts   1806C   230160P   \n",
      "5      5         Bell          Loader Parts   2106D  AH230320   \n",
      "6      6         Bell          Loader Parts   2106D  AHC10205   \n",
      "7      7         Bell  Off Road Truck Parts    B20C    161286   \n",
      "8      8         Bell  Off Road Truck Parts    B20C   A20V060   \n",
      "9      9         Bell  Off Road Truck Parts     B25    206184   \n",
      "\n",
      "                     part_category                       link_extension  \n",
      "0                             Pump  index.cfm/page/catalogue?part=29997  \n",
      "1                     control unit  index.cfm/page/catalogue?part=29998  \n",
      "2                   Hydraulic Pump  index.cfm/page/catalogue?part=29971  \n",
      "3                        Fuel pump  index.cfm/page/catalogue?part=29999  \n",
      "4                    LIFT CYLINDER  index.cfm/page/catalogue?part=29965  \n",
      "5                    TITL CYLINDER  index.cfm/page/catalogue?part=29967  \n",
      "6                    BOOM CYLINDER  index.cfm/page/catalogue?part=29968  \n",
      "7  GLAND CAP FOR STEERING CYLINDER  index.cfm/page/catalogue?part=29803  \n",
      "8                    HYDRALIC PUMP  index.cfm/page/catalogue?part=29966  \n",
      "9                         SUN GEAR  index.cfm/page/catalogue?part=29838  \n"
     ]
    }
   ],
   "source": [
    "# get one of the tables\n",
    "connection = sqlite3.connect(\"catalogue.db\")\n",
    "\n",
    "mydf = pd.read_sql(con=connection,sql='SELECT * FROM AMMANN')\n",
    "print(mydf.head(10))\n",
    "\n",
    "mydf = pd.read_sql(con=connection,sql='SELECT * FROM BELL')\n",
    "print(mydf.head(10))"
   ]
  },
  {
   "cell_type": "code",
   "execution_count": 13,
   "metadata": {},
   "outputs": [],
   "source": [
    "connection.close()"
   ]
  },
  {
   "cell_type": "code",
   "execution_count": null,
   "metadata": {},
   "outputs": [],
   "source": []
  }
 ],
 "metadata": {
  "kernelspec": {
   "display_name": "Python 3",
   "language": "python",
   "name": "python3"
  },
  "language_info": {
   "codemirror_mode": {
    "name": "ipython",
    "version": 3
   },
   "file_extension": ".py",
   "mimetype": "text/x-python",
   "name": "python",
   "nbconvert_exporter": "python",
   "pygments_lexer": "ipython3",
   "version": "3.7.0"
  }
 },
 "nbformat": 4,
 "nbformat_minor": 2
}
